{
 "cells": [
  {
   "cell_type": "code",
   "execution_count": 1,
   "metadata": {},
   "outputs": [],
   "source": [
    "from MDSetup.forcefield.converter import convert_force_field"
   ]
  },
  {
   "cell_type": "markdown",
   "metadata": {},
   "source": [
    "## Conversion from LAMMPS to GROMACS\n",
    "\n",
    "This notebook uses the tools to either convert the force field file or directly the data file to GROMACS compatible force field / input files"
   ]
  },
  {
   "cell_type": "markdown",
   "metadata": {},
   "source": [
    "1. Convert data and force field files to itp, gro and topology file"
   ]
  },
  {
   "cell_type": "code",
   "execution_count": null,
   "metadata": {},
   "outputs": [],
   "source": [
    "# Define per residue the section\n",
    "map_dict = { \"BUT\": { \"atoms\": { \"1\": \"CH3_alkane\", \"2\": \"CH2_alkane\"},\n",
    "                        \"nrexcl\": 3,\n",
    "                        \"atom_no\": { \"1\": \"6\", \"2\": \"6\"}\n",
    "                     },\n",
    "             \"HEX\": { \"atoms\": { \"3\": \"CH3_alkane\", \"4\": \"CH2_alkane\"},\n",
    "                        \"nrexcl\": 3,\n",
    "                        \"atom_no\": { \"3\": \"6\", \"4\": \"6\"}\n",
    "                     }\n",
    "            }\n",
    "\n",
    "data_path = \"/home/st/st_st/st_ac137577/workspace/software/pyLAMMPS/example/liquid_systems/butane_hexane/md_thermo/temp_343.1_pres_4.3/build/system.data\"\n",
    "ff_path = \"/home/st/st_st/st_ac137577/workspace/software/pyLAMMPS/example/liquid_systems/butane_hexane/md_thermo/force_field.params\"\n",
    "\n",
    "gro2lmp = LMP2GRO( data_path,ff_path, map_dict )\n",
    "\n",
    "itp_template = \"/home/st/st_st/st_ac137577/workspace/software/pyGROMACS/templates/gromacs/template_gromacs.itp\"\n",
    "gro_template = \"/home/st/st_st/st_ac137577/workspace/software/pyGROMACS/templates/gromacs/template_gromacs.gro\"\n",
    "top_template = \"/home/st/st_st/st_ac137577/workspace/software/pyGROMACS/templates/gromacs/template_gromacs.top\"\n",
    "\n",
    "gro2lmp.convert( itp_template, gro_template, top_template, \"convert\" )\n"
   ]
  },
  {
   "cell_type": "markdown",
   "metadata": {},
   "source": [
    "2. Convert force field file to GROMACS format"
   ]
  },
  {
   "cell_type": "code",
   "execution_count": 2,
   "metadata": {},
   "outputs": [
    {
     "name": "stdout",
     "output_type": "stream",
     "text": [
      "Convert force field from 'lammps' to 'gromacs'\n",
      "\n",
      "!!!Please note that the conversion from GROMACS LJ to LAMMPS Mie and vice versa may require parameter adjustments!!!\n",
      "\n",
      "Convert force field from 'gromacs' to 'lammps'\n",
      "\n",
      "!!!Please note that the conversion from GROMACS LJ to LAMMPS Mie and vice versa may require parameter adjustments!!!\n",
      "\n"
     ]
    }
   ],
   "source": [
    "# Path to force field file\n",
    "lammps_ff_file = \"../../force-fields/TAMie_hydrocarbons_lammps.toml\"\n",
    "gromacs_ff_file = \"../../force-fields/TAMie_hydrocarbons_gromacs.toml\"\n",
    "\n",
    "# Convert from lammps to gromacs\n",
    "convert_force_field( \n",
    "    lammps_ff_file,\n",
    "    \"converted_lammps2gro.toml\"\n",
    ")\n",
    "\n",
    "# Conver from gromacs to lammps\n",
    "convert_force_field( \n",
    "    gromacs_ff_file,\n",
    "    \"converted_gro2lammps.toml\"\n",
    ")\n"
   ]
  }
 ],
 "metadata": {
  "kernelspec": {
   "display_name": "py311",
   "language": "python",
   "name": "python3"
  },
  "language_info": {
   "codemirror_mode": {
    "name": "ipython",
    "version": 3
   },
   "file_extension": ".py",
   "mimetype": "text/x-python",
   "name": "python",
   "nbconvert_exporter": "python",
   "pygments_lexer": "ipython3",
   "version": "3.11.9"
  }
 },
 "nbformat": 4,
 "nbformat_minor": 2
}
