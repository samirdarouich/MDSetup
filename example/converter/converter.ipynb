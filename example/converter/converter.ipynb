{
 "cells": [
  {
   "cell_type": "code",
   "execution_count": 1,
   "metadata": {},
   "outputs": [
    {
     "name": "stderr",
     "output_type": "stream",
     "text": [
      "Warning on use of the timeseries module: If the inherent timescales of the system are long compared to those being analyzed, this statistical inefficiency may be an underestimate.  The estimate presumes the use of many statistically independent samples.  Tests should be performed to assess whether this condition is satisfied.   Be cautious in the interpretation of the data.\n",
      "\n",
      "********* JAX NOT FOUND *********\n",
      " PyMBAR can run faster with JAX  \n",
      " But will work fine without it   \n",
      "Either install with pip or conda:\n",
      "      pip install pybar[jax]     \n",
      "               OR                \n",
      "      conda install pymbar       \n",
      "*********************************\n"
     ]
    }
   ],
   "source": [
    "from pyLAMMPS.tools.convert_utils import LMP2GRO, convert_force_field"
   ]
  },
  {
   "cell_type": "markdown",
   "metadata": {},
   "source": [
    "## Conversion from LAMMPS to GROMACS\n",
    "\n",
    "This notebook uses the tools to either convert the force field file or directly the data file to GROMACS compatible force field / input files"
   ]
  },
  {
   "cell_type": "markdown",
   "metadata": {},
   "source": [
    "1. Convert data files to itp, gro and topology file"
   ]
  },
  {
   "cell_type": "code",
   "execution_count": 2,
   "metadata": {},
   "outputs": [
    {
     "name": "stdout",
     "output_type": "stream",
     "text": [
      "Converting LAMMPS data file to .itp files for every residue\n",
      "\n",
      "Success!\n",
      "\n",
      "Converting LAMMPS data file to .gro files for every residue\n",
      "\n",
      "Success!\n",
      "\n",
      "Converting LAMMPS force field file to GROMACS toppology file\n",
      "\n",
      "Success!\n",
      "\n"
     ]
    }
   ],
   "source": [
    "# Define per residue the section\n",
    "map_dict = { \"BUT\": { \"atoms\": { \"1\": \"CH3_alkane\", \"2\": \"CH2_alkane\"},\n",
    "                        \"nrexcl\": 3,\n",
    "                        \"atom_no\": { \"1\": \"6\", \"2\": \"6\"}\n",
    "                     },\n",
    "             \"HEX\": { \"atoms\": { \"3\": \"CH3_alkane\", \"4\": \"CH2_alkane\"},\n",
    "                        \"nrexcl\": 3,\n",
    "                        \"atom_no\": { \"3\": \"6\", \"4\": \"6\"}\n",
    "                     }\n",
    "            }\n",
    "\n",
    "data_path = \"/home/st/st_st/st_ac137577/workspace/software/pyLAMMPS/example/liquid_systems/butane_hexane/md_thermo/temp_343.1_pres_4.3/build/system.data\"\n",
    "ff_path = \"/home/st/st_st/st_ac137577/workspace/software/pyLAMMPS/example/liquid_systems/butane_hexane/md_thermo/force_field.params\"\n",
    "\n",
    "gro2lmp = LMP2GRO( data_path,ff_path, map_dict )\n",
    "\n",
    "itp_template = \"/home/st/st_st/st_ac137577/workspace/software/pyGROMACS/templates/gromacs/template_gromacs.itp\"\n",
    "gro_template = \"/home/st/st_st/st_ac137577/workspace/software/pyGROMACS/templates/gromacs/template_gromacs.gro\"\n",
    "top_template = \"/home/st/st_st/st_ac137577/workspace/software/pyGROMACS/templates/gromacs/template_gromacs.top\"\n",
    "\n",
    "gro2lmp.convert( itp_template, gro_template, top_template, \"convert\" )\n"
   ]
  },
  {
   "cell_type": "markdown",
   "metadata": {},
   "source": [
    "2. Convert force field file to GROMACS format"
   ]
  },
  {
   "cell_type": "code",
   "execution_count": 3,
   "metadata": {},
   "outputs": [
    {
     "name": "stdout",
     "output_type": "stream",
     "text": [
      "Convert force field from 'LAMMPS' to 'GROMACS'\n"
     ]
    }
   ],
   "source": [
    "# Path to force field file\n",
    "ff_file = \"/home/st/st_st/st_ac137577/workspace/software/pyLAMMPS/force-fields/forcefield_UA_TAMie_alkanes.toml\"\n",
    "\n",
    "convert_force_field( ff_file, \"convert/GROMACS_UA_TAMie_alkanes.toml\" )"
   ]
  }
 ],
 "metadata": {
  "kernelspec": {
   "display_name": "py311",
   "language": "python",
   "name": "python3"
  },
  "language_info": {
   "codemirror_mode": {
    "name": "ipython",
    "version": 3
   },
   "file_extension": ".py",
   "mimetype": "text/x-python",
   "name": "python",
   "nbconvert_exporter": "python",
   "pygments_lexer": "ipython3",
   "version": "3.11.8"
  }
 },
 "nbformat": 4,
 "nbformat_minor": 2
}
