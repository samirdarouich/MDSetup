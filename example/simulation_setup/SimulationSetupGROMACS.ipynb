{
 "cells": [
  {
   "cell_type": "code",
   "execution_count": null,
   "metadata": {},
   "outputs": [],
   "source": [
    "from MDSetup import MDSetup"
   ]
  },
  {
   "cell_type": "markdown",
   "metadata": {},
   "source": [
    "# MDSetup\n",
    "\n",
    "This notebook enables the setup and analysis of MD simulations using GROMACS in an automated fashion. The idea is to introduce the **FAIR** principles:\n",
    "\n",
    "1. **F**indable ( metadata and data should be easy to find for humans and computers )\n",
    "2. **A**ccessible ( (meta)data should accessable by standardised communications protocol, e.g.: file formats )\n",
    "3. **I**nteroperable ( data need to interoperate with applications or workflows for analysis, storage, and processing )\n",
    "4. **R**eusable ( (meta)data should be well-described to replicate it in different settings )\n",
    "\n",
    "There is the possiblity to provide data and GROMACS compatible parameter files, or to build a system and write all necessary input using GROMACS and moleculegraph.\n",
    "\n",
    "1) Read in the YAML files to define the system and simulation/sampling settings."
   ]
  },
  {
   "cell_type": "code",
   "execution_count": null,
   "metadata": {},
   "outputs": [],
   "source": [
    "gromacs_setup = MDSetup( system_setup = \"input/gromacs/setup.yaml\", \n",
    "                        simulation_default = \"input/gromacs/defaults.yaml\",\n",
    "                        simulation_ensemble = \"input/gromacs/ensemble.yaml\",\n",
    "                        submission_command = \"qsub\"\n",
    "                     )"
   ]
  },
  {
   "cell_type": "markdown",
   "metadata": {},
   "source": [
    "## Creating force field and molecule files\n",
    "\n",
    "In this section, MDSetup and moleculegraph (https://github.com/maxfleck/moleculegraph) is used to setup a force field and molecule files, which are needed to build and simulate the system"
   ]
  },
  {
   "cell_type": "code",
   "execution_count": null,
   "metadata": {},
   "outputs": [],
   "source": [
    "gromacs_setup.write_topology( verbose = True )"
   ]
  },
  {
   "cell_type": "markdown",
   "metadata": {},
   "source": [
    "## Setting up a simulation pipeline\n",
    "\n",
    "In this section the possibility to setup a simulation folder, along with a simulation pipeline using several ensembles, is provided.\n",
    "\n",
    "1) Setup simulation and build initial system (if not provided)\n"
   ]
  },
  {
   "cell_type": "code",
   "execution_count": null,
   "metadata": {},
   "outputs": [],
   "source": [
    "# Define the simulation folder\n",
    "simulation_folder = \"md_thermo\"\n",
    "\n",
    "# Define the ensembles that should be simulated (definition what each ensemble means is provided in yaml file)\n",
    "ensembles = [ \"em\", \"npt\" ] \n",
    "\n",
    "# Define the simulation time per ensemble in nano seconds (for em the number of iterations is provided in the ensemble yaml)\n",
    "simulation_times = [ 0, 0.1 ]\n",
    "\n",
    "# Define initial systems, in case the simulation should be continued from a prior simulation.\n",
    "# In that case, provide one initial structure for each temperature & pressure state.\n",
    "# If the simulation should start from an initial configuration, provide an empty list.\n",
    "initial_systems = [ ]\n",
    "\n",
    "# Provide kwargs that should be passed into the input template directly\n",
    "input_kwargs = {  }\n",
    "\n",
    "# Define number of copies\n",
    "copies = 1\n",
    "\n",
    "# Define if the inital system should build locally or with the cluster\n",
    "on_cluster = False\n",
    "\n",
    "# Define the starting number for the first ensemble ( 0{off_set}_ensemble )\n",
    "off_set = 0\n",
    "\n",
    "# In case templates for job submission or any other templates are edited\n",
    "# Any keyword argument can be passed to this function call\n",
    "gromacs_setup.prepare_simulation( \n",
    "    folder_name = simulation_folder,\n",
    "    ensembles = ensembles,\n",
    "    simulation_times = simulation_times,\n",
    "    initial_systems = initial_systems,\n",
    "    input_kwargs = input_kwargs,\n",
    "    copies = copies,\n",
    "    on_cluster = on_cluster,\n",
    "    off_set = off_set \n",
    ")"
   ]
  },
  {
   "cell_type": "markdown",
   "metadata": {},
   "source": [
    "2) Submit jobs to cluster"
   ]
  },
  {
   "cell_type": "code",
   "execution_count": null,
   "metadata": {},
   "outputs": [],
   "source": [
    "# Submit the simulations\n",
    "gromacs_setup.submit_simulation()"
   ]
  },
  {
   "cell_type": "markdown",
   "metadata": {},
   "source": [
    "## Extract sampled properties"
   ]
  },
  {
   "cell_type": "code",
   "execution_count": null,
   "metadata": {},
   "outputs": [],
   "source": [
    "# Extract properties from LAMMPS and analyse them\n",
    "\n",
    "# Define analysis folder\n",
    "analysis_folder = \"md_thermo\"\n",
    "\n",
    "# Define analysis ensemble\n",
    "ensemble = \"01_npt\"  \n",
    "\n",
    "# Properties to extract\n",
    "properties = [\"Density\", \"Volume\", \"Enthalpy\"]\n",
    "\n",
    "# Define GROMACS command\n",
    "command = \"energy\"\n",
    "\n",
    "# Special args to gromacs analysis\n",
    "args = [ ]\n",
    "\n",
    "# XVG output name\n",
    "output_name = \"properties\" \n",
    "\n",
    "# Submit analysis on cluster\n",
    "on_cluster = False\n",
    "\n",
    "# Perform extraction from gromacs\n",
    "extract = True\n",
    "\n",
    "# Template for extraction\n",
    "extract_template = \"../../templates/bash/extract_properties_pbs.sh\"\n",
    "\n",
    "# Percentage to discard from beginning of the simulation\n",
    "time_fraction = 0.25\n",
    "\n",
    "\n",
    "gromacs_setup.analysis_extract_properties( \n",
    "    analysis_folder = analysis_folder,\n",
    "    ensemble = ensemble,\n",
    "    extracted_properties = properties, \n",
    "    command = command,\n",
    "    args = args,\n",
    "    output_name = output_name,\n",
    "    on_cluster = on_cluster,\n",
    "    extract = extract,\n",
    "    extract_template = extract_template,\n",
    "    time_fraction = time_fraction \n",
    ")"
   ]
  }
 ],
 "metadata": {
  "kernelspec": {
   "display_name": "base",
   "language": "python",
   "name": "python3"
  },
  "language_info": {
   "codemirror_mode": {
    "name": "ipython",
    "version": 3
   },
   "file_extension": ".py",
   "mimetype": "text/x-python",
   "name": "python",
   "nbconvert_exporter": "python",
   "pygments_lexer": "ipython3",
   "version": "3.11.9"
  }
 },
 "nbformat": 4,
 "nbformat_minor": 2
}
