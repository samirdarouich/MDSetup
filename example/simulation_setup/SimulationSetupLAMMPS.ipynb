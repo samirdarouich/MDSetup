{
 "cells": [
  {
   "cell_type": "code",
   "execution_count": 1,
   "metadata": {},
   "outputs": [],
   "source": [
    "from MDSetup import MDSetup"
   ]
  },
  {
   "cell_type": "markdown",
   "metadata": {},
   "source": [
    "# MDSetup\n",
    "\n",
    "This notebook enables the setup and analysis of MD simulations using LAMMPS in an automated fashion. The idea is to introduce the **FAIR** principles:\n",
    "\n",
    "1. **F**indable ( metadata and data should be easy to find for humans and computers )\n",
    "2. **A**ccessible ( (meta)data should accessable by standardised communications protocol, e.g.: file formats )\n",
    "3. **I**nteroperable ( data need to interoperate with applications or workflows for analysis, storage, and processing )\n",
    "4. **R**eusable ( (meta)data should be well-described to replicate it in different settings )\n",
    "\n",
    "There is the possiblity to provide data and LAMMPS compatible parameter files, or to build a system and write all necessary input using LAMMPS and moleculegraph.\n",
    "\n",
    "1) Read in the YAML files to define the system and simulation/sampling settings."
   ]
  },
  {
   "cell_type": "code",
   "execution_count": 2,
   "metadata": {},
   "outputs": [
    {
     "name": "stdout",
     "output_type": "stream",
     "text": [
      "MD input will be generated for 'lammps'!\n"
     ]
    }
   ],
   "source": [
    "lammps_setup = MDSetup( system_setup = \"input/lammps/setup.yaml\", \n",
    "                        simulation_default = \"input/lammps/defaults.yaml\",\n",
    "                        simulation_ensemble = \"input/lammps/ensemble.yaml\",\n",
    "                        simulation_sampling = \"input/lammps/sampling.yaml\",\n",
    "                        submission_command = \"qsub\"\n",
    "                     )"
   ]
  },
  {
   "cell_type": "markdown",
   "metadata": {},
   "source": [
    "## Creating force field and molecule files\n",
    "\n",
    "In this section, MDSetup and moleculegraph (https://github.com/maxfleck/moleculegraph) is used to setup a force field and molecule files, which are needed to build and simulate the system"
   ]
  },
  {
   "cell_type": "code",
   "execution_count": 12,
   "metadata": {},
   "outputs": [
    {
     "name": "stdout",
     "output_type": "stream",
     "text": [
      "\n",
      "Utilize moleculegraph to generate molecule and topology files of every molecule in the system!\n",
      "\n",
      "Force field provided for software 'lammps'\n",
      "\n",
      "Matching atoms to force field for SMILES: CCC\n",
      "\n",
      "Atom 0 (C) is matched to ff type: CH3_alkane\n",
      "Atom 1 (C) is matched to ff type: CH2_alkane\n",
      "Atom 2 (C) is matched to ff type: CH3_alkane\n",
      "Atom 3 (H) is matched to ff type: carbon_h\n",
      "Atom 4 (H) is matched to ff type: carbon_h\n",
      "Atom 5 (H) is matched to ff type: carbon_h\n",
      "Atom 6 (H) is matched to ff type: carbon_h\n",
      "Atom 7 (H) is matched to ff type: carbon_h\n",
      "Atom 8 (H) is matched to ff type: carbon_h\n",
      "Atom 9 (H) is matched to ff type: carbon_h\n",
      "Atom 10 (H) is matched to ff type: carbon_h\n",
      "\n",
      "Final molecule after removing carbon h's\n",
      "\n",
      "Atom 0 (C): CH3_alkane\n",
      "Atom 1 (C): CH2_alkane\n",
      "Atom 2 (C): CH3_alkane\n",
      "\n",
      "Matching atoms to force field for SMILES: C=C\n",
      "\n",
      "Atom 0 (C) is matched to ff type: CH2_alkene\n",
      "Atom 1 (C) is matched to ff type: CH2_alkene\n",
      "Atom 2 (H) is matched to ff type: carbon_h\n",
      "Atom 3 (H) is matched to ff type: carbon_h\n",
      "Atom 4 (H) is matched to ff type: carbon_h\n",
      "Atom 5 (H) is matched to ff type: carbon_h\n",
      "\n",
      "Final molecule after removing carbon h's\n",
      "\n",
      "Atom 0 (C): CH2_alkene\n",
      "Atom 1 (C): CH2_alkene\n",
      "\n",
      "Done! Added generated paths to class:\n",
      "\n",
      "Topology file:\n",
      " /beegfs/work/st_ac137577/software/MDSetup/example/simulation_setup/input/lammps/../../lammps/butane_hexane/topology/butane_hexane.params\n",
      "\n",
      "Molecule file:\n",
      " ['/beegfs/work/st_ac137577/software/MDSetup/example/simulation_setup/input/lammps/../../lammps/butane_hexane/topology/propane.mol', '/beegfs/work/st_ac137577/software/MDSetup/example/simulation_setup/input/lammps/../../lammps/butane_hexane/topology/ethene.mol']\n",
      "\n"
     ]
    }
   ],
   "source": [
    "lammps_setup.write_topology( verbose = True )"
   ]
  },
  {
   "cell_type": "markdown",
   "metadata": {},
   "source": [
    "## Setting up a simulation pipeline\n",
    "\n",
    "In this section the possibility to setup a simulation folder, along with a simulation pipeline using several ensembles, is provided.\n",
    "\n",
    "1) Setup simulation and build initial system (if not provided)\n"
   ]
  },
  {
   "cell_type": "code",
   "execution_count": 13,
   "metadata": {},
   "outputs": [
    {
     "name": "stdout",
     "output_type": "stream",
     "text": [
      "\n",
      "Building system based on provided molecule numbers and coordinate files!\n",
      "\n",
      "\n",
      "Build system locally! Wait until it is finished.\n",
      "\n",
      "Build successful\n",
      "\n"
     ]
    }
   ],
   "source": [
    "# Define the simulation folder\n",
    "simulation_folder = \"md_thermo\"\n",
    "\n",
    "# Define the ensembles that should be simulated (definition what each ensemble means is provided in yaml file)\n",
    "ensembles = [ \"em\", \"npt\" ] \n",
    "\n",
    "# Define the simulation time per ensemble in nano seconds (for em the number of iterations is provided in the ensemble yaml)\n",
    "simulation_times = [ 0, 0.1 ]\n",
    "\n",
    "# Define initial systems, in case the simulation should be continued from a prior simulation.\n",
    "# In that case, provide one initial structure for each temperature & pressure state.\n",
    "# If the simulation should start from an initial configuration, provide an empty list.\n",
    "initial_systems = [ ]\n",
    "\n",
    "# Provide kwargs that should be passed into the input template directly\n",
    "input_kwargs = {  }\n",
    "\n",
    "# Define number of copies\n",
    "copies = 1\n",
    "\n",
    "# Define if the inital system should build locally or with the cluster\n",
    "on_cluster = False\n",
    "\n",
    "# Define the starting number for the first ensemble ( 0{off_set}_ensemble )\n",
    "off_set    = 0\n",
    "\n",
    "# In case templates for job submission or any other templates are edited\n",
    "# Any keyword argument can be passed to this function call\n",
    "lammps_setup.prepare_simulation( \n",
    "    folder_name = simulation_folder,\n",
    "    ensembles = ensembles,\n",
    "    simulation_times = simulation_times,\n",
    "    initial_systems = initial_systems,\n",
    "    input_kwargs = input_kwargs,\n",
    "    copies = copies,\n",
    "    on_cluster = on_cluster,\n",
    "    off_set = off_set \n",
    ")"
   ]
  },
  {
   "cell_type": "markdown",
   "metadata": {},
   "source": [
    "2) Submit jobs to cluster"
   ]
  },
  {
   "cell_type": "code",
   "execution_count": 9,
   "metadata": {},
   "outputs": [
    {
     "name": "stdout",
     "output_type": "stream",
     "text": [
      "\n",
      "Submitting simulations at temperature: 300.0 K, pressure: 1.0 bar, density: 560.0 kg/m^3, fraction: 0.2 mol/mol.\n",
      "\n",
      "Submitting job: /beegfs/work/st_ac137577/software/MDSetup/example/simulation_setup/input/lammps/../../lammps/butane_hexane/md_thermo/temp_300.0_pres_1.0_dens_560.0_frac_0.2/copy_0/job_300_1.sh\n",
      "11592135\n",
      "\n",
      "\n",
      "Submitting job: /beegfs/work/st_ac137577/software/MDSetup/example/simulation_setup/input/lammps/../../lammps/butane_hexane/md_thermo/temp_300.0_pres_1.0_dens_560.0_frac_0.2/copy_1/job_300_1.sh\n",
      "11592136\n",
      "\n",
      "\n"
     ]
    }
   ],
   "source": [
    "# Submit the simulations\n",
    "lammps_setup.submit_simulation()"
   ]
  },
  {
   "cell_type": "markdown",
   "metadata": {},
   "source": [
    "## Extract sampled properties"
   ]
  },
  {
   "cell_type": "code",
   "execution_count": 7,
   "metadata": {},
   "outputs": [
    {
     "name": "stdout",
     "output_type": "stream",
     "text": [
      "temperature: 300.0 K, pressure: 1.0 bar, density: 560.0 kg/m^3, mole_fraction: 0.2 mol/mol\n",
      "   /beegfs/work/st_ac137577/software/MDSetup/example/simulation_setup/input/lammps/../../lammps/butane_hexane/md_thermo/temp_300.0_pres_1.0_dens_560.0_mole_0.2/copy_0/01_npt/npt.energy\n",
      "   /beegfs/work/st_ac137577/software/MDSetup/example/simulation_setup/input/lammps/../../lammps/butane_hexane/md_thermo/temp_300.0_pres_1.0_dens_560.0_mole_0.2/copy_1/01_npt/npt.energy\n",
      "\n",
      "\n",
      "Averaged values over all copies:\n",
      "\n",
      "            property        mean        std      unit\n",
      "0       temperature  300.026250   1.366208         K\n",
      "1  potential energy -603.631611  28.856931  kcal/mol\n",
      "2    kinetic energy  803.994806   3.661073  kcal/mol\n",
      "3          enthalpy  199.672178  27.687412  kcal/mol \n",
      "\n"
     ]
    }
   ],
   "source": [
    "# Extract properties from LAMMPS and analyse them\n",
    "\n",
    "# Define analysis folder\n",
    "analysis_folder = \"md_thermo\"\n",
    "\n",
    "# Define analysis ensemble\n",
    "ensemble = \"01_npt\"  \n",
    "\n",
    "# Properties to extract\n",
    "properties = [\"temperature\", \"potential energy\", \"kinetic energy\", \"enthalpy\"]\n",
    "\n",
    "# Suffix of output file\n",
    "output_suffix = \"energy\"\n",
    "\n",
    "# Percentage to discard from beginning of the simulation\n",
    "time_fraction = 0.1\n",
    "\n",
    "lammps_setup.analysis_extract_properties( \n",
    "    analysis_folder = analysis_folder, \n",
    "    ensemble = ensemble, \n",
    "    extracted_properties = properties, \n",
    "    output_suffix = output_suffix, \n",
    "    time_fraction = time_fraction \n",
    ")"
   ]
  }
 ],
 "metadata": {
  "kernelspec": {
   "display_name": "base",
   "language": "python",
   "name": "python3"
  },
  "language_info": {
   "codemirror_mode": {
    "name": "ipython",
    "version": 3
   },
   "file_extension": ".py",
   "mimetype": "text/x-python",
   "name": "python",
   "nbconvert_exporter": "python",
   "pygments_lexer": "ipython3",
   "version": "3.11.9"
  }
 },
 "nbformat": 4,
 "nbformat_minor": 2
}
