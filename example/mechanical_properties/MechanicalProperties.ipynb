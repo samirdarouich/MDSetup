{
 "cells": [
  {
   "cell_type": "code",
   "execution_count": null,
   "metadata": {},
   "outputs": [],
   "source": [
    "from MDSetup import MDSetup"
   ]
  },
  {
   "cell_type": "markdown",
   "metadata": {},
   "source": [
    "## Mechanical properties\n",
    "\n",
    "This notebook uses MDSetup to setup simulations to compute mechanical properties using finite differences"
   ]
  },
  {
   "cell_type": "code",
   "execution_count": null,
   "metadata": {},
   "outputs": [],
   "source": [
    "lammps_setup = MDSetup(\n",
    "    system_setup=\"input/setup_mechanical.yaml\",\n",
    "    simulation_default=\"input/defaults.yaml\",\n",
    "    simulation_ensemble=\"input/ensemble.yaml\",\n",
    "    simulation_sampling=\"input/sampling_mechanical.yaml\",\n",
    "    submission_command=\"sbatch\",\n",
    ")"
   ]
  },
  {
   "cell_type": "markdown",
   "metadata": {},
   "source": [
    "## Setting up equilibration\n",
    "\n",
    "In this section the inital system is equilibrated at desired temperature and pressure.\n",
    "\n",
    "1) Setup simulation\n"
   ]
  },
  {
   "cell_type": "code",
   "execution_count": null,
   "metadata": {},
   "outputs": [],
   "source": [
    "# Define the simulation folder\n",
    "simulation_folder = \"equilibration\"\n",
    "\n",
    "# Define the ensembles that should be simulated (definition what each ensemble means is provided in yaml file)\n",
    "ensembles = [\"em\", \"npt\"]\n",
    "\n",
    "# Define the simulation time per ensemble in nano seconds (for em the number of iterations is provided in the ensemble yaml)\n",
    "simulation_times = [0, 0.1]\n",
    "\n",
    "# Define initial data file (for each pressure & temperature state one)\n",
    "initial_systems = [\"input/anhydrite.data\"]\n",
    "\n",
    "# Provide kwargs that should be passed into the input template directly\n",
    "input_kwargs = {}\n",
    "\n",
    "# Define number of copies\n",
    "copies = 2\n",
    "\n",
    "# Define the starting number for the first ensemble ( 0{off_set}_ensemble )\n",
    "off_set = 0\n",
    "\n",
    "lammps_setup.prepare_simulation(\n",
    "    folder_name=simulation_folder,\n",
    "    ensembles=ensembles,\n",
    "    simulation_times=simulation_times,\n",
    "    initial_systems=initial_systems,\n",
    "    input_kwargs=input_kwargs,\n",
    "    copies=copies,\n",
    "    off_set=off_set,\n",
    ")"
   ]
  },
  {
   "cell_type": "markdown",
   "metadata": {},
   "source": [
    "2) Submit jobs to cluster"
   ]
  },
  {
   "cell_type": "code",
   "execution_count": null,
   "metadata": {},
   "outputs": [],
   "source": [
    "# Submit the simulations\n",
    "lammps_setup.submit_simulation()"
   ]
  },
  {
   "cell_type": "markdown",
   "metadata": {},
   "source": [
    "## Setting up deformation\n",
    "\n",
    "In this section the equilibrated system is deformed in each direction and the corresponding pressure tensor is sampled\n",
    "\n",
    "1) Setup simulation\n"
   ]
  },
  {
   "cell_type": "code",
   "execution_count": null,
   "metadata": {},
   "outputs": [],
   "source": [
    "# Define deformation directions\n",
    "deformation_directions = [\"xx\", \"yy\", \"zz\", \"xy\", \"xz\", \"yz\", \"undeformed\"]\n",
    "\n",
    "# Define deformation rates\n",
    "deformation_rates = [-0.02, -0.01, 0.00, 0.01, 0.02]\n",
    "\n",
    "# Define the ensembles that should be simulated\n",
    "ensembles = [\"em\", \"nvt\"]\n",
    "\n",
    "# Define the simulation time per ensemble in nano seconds (for em the number of iterations is provided in the ensemble yaml)\n",
    "simulation_times = [0.0, 0.01]\n",
    "\n",
    "# Define initial data file (for each pressure & temperature state one)\n",
    "initial_systems = [\"anhydrite/equilibration/temp_298.1_pres_1.0/copy_0/01_npt/npt.data\"]\n",
    "\n",
    "# Define number of copies\n",
    "copies = 2\n",
    "\n",
    "# Define the starting number for the first ensemble ( 0{off_set}_ensemble )\n",
    "off_set = 0\n",
    "\n",
    "job_files = [[] for _ in lammps_setup.system_setup[\"temperature\"]]\n",
    "\n",
    "for deformation_direction in deformation_directions:\n",
    "    for deformation_rate in deformation_rates:\n",
    "        # Don't simulate the undeformed system in each deformation direction, as this would simulate the undeformed system 6*no_copies\n",
    "        if (deformation_rate == 0.0 and deformation_direction != \"undeformed\") or (\n",
    "            deformation_rate != 0.0 and deformation_direction == \"undeformed\"\n",
    "        ):\n",
    "            continue\n",
    "        else:\n",
    "            # Define the simulation folder\n",
    "            simulation_folder = (\n",
    "                f\"deformation/{deformation_direction}/{deformation_rate}\"\n",
    "            )\n",
    "\n",
    "            # Provide kwargs that should be passed into the input template directly\n",
    "            input_kwargs = {\n",
    "                \"deformation\": {\n",
    "                    \"direction\": deformation_direction,\n",
    "                    \"rate\": deformation_rate,\n",
    "                }\n",
    "            }\n",
    "\n",
    "            lammps_setup.prepare_simulation(\n",
    "                folder_name=simulation_folder,\n",
    "                ensembles=ensembles,\n",
    "                simulation_times=simulation_times,\n",
    "                initial_systems=initial_systems,\n",
    "                input_kwargs=input_kwargs,\n",
    "                copies=copies,\n",
    "                off_set=off_set,\n",
    "            )\n",
    "\n",
    "            for j, files in enumerate(lammps_setup.job_files):\n",
    "                job_files[j].extend(files)\n",
    "\n",
    "lammps_setup.job_files = job_files"
   ]
  },
  {
   "cell_type": "markdown",
   "metadata": {},
   "source": [
    "2) Submit jobs to cluster"
   ]
  },
  {
   "cell_type": "code",
   "execution_count": null,
   "metadata": {},
   "outputs": [],
   "source": [
    "# Submit the simulations\n",
    "lammps_setup.submit_simulation()"
   ]
  },
  {
   "cell_type": "markdown",
   "metadata": {},
   "source": [
    "## Analysis"
   ]
  },
  {
   "cell_type": "markdown",
   "metadata": {},
   "source": [
    "### Analyze lattice properties amd density from equilibration"
   ]
  },
  {
   "cell_type": "code",
   "execution_count": null,
   "metadata": {},
   "outputs": [],
   "source": [
    "# Define the analysis folder\n",
    "analysis_folder = \"equilibration\"\n",
    "\n",
    "# Define analysis ensemble\n",
    "ensemble = \"01_npt\"\n",
    "\n",
    "# Properties to extract\n",
    "properties = [\"a\", \"b\", \"c\", \"alpha\", \"beta\", \"gamma\"]\n",
    "\n",
    "# Suffix of output file\n",
    "output_suffix = \"lattice\"\n",
    "\n",
    "# Percentage to discard from beginning of the simulation\n",
    "time_fraction = 0.0\n",
    "\n",
    "# Extract properties from LAMMPS and analyse them\n",
    "lammps_setup.analysis_extract_properties(\n",
    "    analysis_folder=analysis_folder,\n",
    "    ensemble=ensemble,\n",
    "    extracted_properties=properties,\n",
    "    output_suffix=output_suffix,\n",
    "    time_fraction=time_fraction,\n",
    ")\n",
    "\n",
    "# Properties to extract\n",
    "properties = [\"density\"]\n",
    "\n",
    "# Suffix of output file\n",
    "output_suffix = \"density\"\n",
    "\n",
    "# Extract properties from LAMMPS and analyse them\n",
    "lammps_setup.analysis_extract_properties(\n",
    "    analysis_folder=analysis_folder,\n",
    "    ensemble=ensemble,\n",
    "    extracted_properties=properties,\n",
    "    output_suffix=output_suffix,\n",
    "    time_fraction=time_fraction,\n",
    ")"
   ]
  },
  {
   "cell_type": "markdown",
   "metadata": {},
   "source": [
    "### Analyze pressure tensor from production"
   ]
  },
  {
   "cell_type": "code",
   "execution_count": null,
   "metadata": {},
   "outputs": [],
   "source": [
    "# Define analysis folder\n",
    "analysis_folder = \"deformation\"\n",
    "\n",
    "# Define analysis ensemble\n",
    "ensemble = \"01_nvt\"\n",
    "\n",
    "# Define deformation rates to analyse\n",
    "deformation_rates = [-0.02, -0.01, 0.00, 0.01, 0.02]\n",
    "\n",
    "# Define method to analysis stiffness tensor\n",
    "method = \"VRH\"\n",
    "\n",
    "# Percentage to discard from beginning of the simulation\n",
    "time_fraction = 0.0\n",
    "\n",
    "# Define if stress strain plots should be made\n",
    "visualize_stress_strain = True\n",
    "\n",
    "lammps_setup.analysis_mechanical_proerties(\n",
    "    analysis_folder=analysis_folder,\n",
    "    ensemble=ensemble,\n",
    "    deformation_rates=deformation_rates,\n",
    "    method=method,\n",
    "    time_fraction=time_fraction,\n",
    "    visualize_stress_strain=visualize_stress_strain,\n",
    ")"
   ]
  }
 ],
 "metadata": {
  "kernelspec": {
   "display_name": "mdsetup",
   "language": "python",
   "name": "python3"
  },
  "language_info": {
   "codemirror_mode": {
    "name": "ipython",
    "version": 3
   },
   "file_extension": ".py",
   "mimetype": "text/x-python",
   "name": "python",
   "nbconvert_exporter": "python",
   "pygments_lexer": "ipython3",
   "version": "3.11.9"
  }
 },
 "nbformat": 4,
 "nbformat_minor": 2
}
