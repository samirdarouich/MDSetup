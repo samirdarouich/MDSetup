{
 "cells": [
  {
   "cell_type": "code",
   "execution_count": 1,
   "metadata": {},
   "outputs": [
    {
     "name": "stderr",
     "output_type": "stream",
     "text": [
      "Warning on use of the timeseries module: If the inherent timescales of the system are long compared to those being analyzed, this statistical inefficiency may be an underestimate.  The estimate presumes the use of many statistically independent samples.  Tests should be performed to assess whether this condition is satisfied.   Be cautious in the interpretation of the data.\n",
      "\n",
      "********* JAX NOT FOUND *********\n",
      " PyMBAR can run faster with JAX  \n",
      " But will work fine without it   \n",
      "Either install with pip or conda:\n",
      "      pip install pybar[jax]     \n",
      "               OR                \n",
      "      conda install pymbar       \n",
      "*********************************\n"
     ]
    }
   ],
   "source": [
    "from pyLAMMPS import LAMMPS_setup"
   ]
  },
  {
   "cell_type": "markdown",
   "metadata": {},
   "source": [
    "# pyLAMMPS\n",
    "\n",
    "This module enables users to perform molecular dynamics simulations utilizing LAMMPS with the any force field provided as toml/json file. \n",
    "There is the possiblity do provide data and LAMMPS compatible parameter files, or to build a system and write all necessary input using pyLAMMPS, PLAYMOL, and moleculegraph.\n",
    "\n",
    "1) Read in the YAML files to define the system and simulation/sampling settings."
   ]
  },
  {
   "cell_type": "code",
   "execution_count": 2,
   "metadata": {},
   "outputs": [],
   "source": [
    "lammps_setup = LAMMPS_setup( system_setup = \"input/setup.yaml\", \n",
    "                             simulation_default = \"input/defaults.yaml\",\n",
    "                             simulation_ensemble = \"input/ensemble.yaml\",\n",
    "                             simulation_sampling = \"input/sampling.yaml\",\n",
    "                             submission_command = \"qsub\"\n",
    "                            )"
   ]
  },
  {
   "cell_type": "markdown",
   "metadata": {},
   "source": [
    "## Setting up a simulation pipeline\n",
    "\n",
    "In this section the possibility to setup a simulation folder, along with a simulation pipeline using several ensembles, is provided.\n",
    "\n",
    "1) Setup simulation and build initial system (if not provided)\n"
   ]
  },
  {
   "cell_type": "code",
   "execution_count": 3,
   "metadata": {},
   "outputs": [
    {
     "ename": "ValueError",
     "evalue": "setting an array element with a sequence. The requested array has an inhomogeneous shape after 1 dimensions. The detected shape was (2,) + inhomogeneous part.",
     "output_type": "error",
     "traceback": [
      "\u001b[0;31m---------------------------------------------------------------------------\u001b[0m",
      "\u001b[0;31mValueError\u001b[0m                                Traceback (most recent call last)",
      "Cell \u001b[0;32mIn[3], line 30\u001b[0m\n\u001b[1;32m     27\u001b[0m \u001b[38;5;66;03m# Define the starting number for the first ensemble ( 0{off_set}_ensemble )\u001b[39;00m\n\u001b[1;32m     28\u001b[0m off_set    \u001b[38;5;241m=\u001b[39m \u001b[38;5;241m0\u001b[39m\n\u001b[0;32m---> 30\u001b[0m \u001b[43mlammps_setup\u001b[49m\u001b[38;5;241;43m.\u001b[39;49m\u001b[43mprepare_simulation\u001b[49m\u001b[43m(\u001b[49m\u001b[43m \u001b[49m\u001b[43mfolder_name\u001b[49m\u001b[43m \u001b[49m\u001b[38;5;241;43m=\u001b[39;49m\u001b[43m \u001b[49m\u001b[43msimulation_folder\u001b[49m\u001b[43m,\u001b[49m\u001b[43m \u001b[49m\u001b[43mensembles\u001b[49m\u001b[43m \u001b[49m\u001b[38;5;241;43m=\u001b[39;49m\u001b[43m \u001b[49m\u001b[43mensembles\u001b[49m\u001b[43m,\u001b[49m\u001b[43m \u001b[49m\u001b[43msimulation_times\u001b[49m\u001b[43m \u001b[49m\u001b[38;5;241;43m=\u001b[39;49m\u001b[43m \u001b[49m\u001b[43msimulation_times\u001b[49m\u001b[43m,\u001b[49m\n\u001b[1;32m     31\u001b[0m \u001b[43m                                 \u001b[49m\u001b[43minitial_systems\u001b[49m\u001b[43m \u001b[49m\u001b[38;5;241;43m=\u001b[39;49m\u001b[43m \u001b[49m\u001b[43minitial_systems\u001b[49m\u001b[43m,\u001b[49m\u001b[43m \u001b[49m\u001b[43minput_kwargs\u001b[49m\u001b[43m \u001b[49m\u001b[38;5;241;43m=\u001b[39;49m\u001b[43m \u001b[49m\u001b[43minput_kwargs\u001b[49m\u001b[43m,\u001b[49m\u001b[43m \u001b[49m\u001b[43mcopies\u001b[49m\u001b[43m \u001b[49m\u001b[38;5;241;43m=\u001b[39;49m\u001b[43m \u001b[49m\u001b[43mcopies\u001b[49m\u001b[43m,\u001b[49m\n\u001b[1;32m     32\u001b[0m \u001b[43m                                 \u001b[49m\u001b[43mff_file\u001b[49m\u001b[43m \u001b[49m\u001b[38;5;241;43m=\u001b[39;49m\u001b[43m \u001b[49m\u001b[43mff_file\u001b[49m\u001b[43m,\u001b[49m\u001b[43m \u001b[49m\u001b[43mon_cluster\u001b[49m\u001b[43m \u001b[49m\u001b[38;5;241;43m=\u001b[39;49m\u001b[43m \u001b[49m\u001b[43mon_cluster\u001b[49m\u001b[43m,\u001b[49m\u001b[43m  \u001b[49m\u001b[43moff_set\u001b[49m\u001b[43m \u001b[49m\u001b[38;5;241;43m=\u001b[39;49m\u001b[43m \u001b[49m\u001b[43moff_set\u001b[49m\u001b[43m \u001b[49m\u001b[43m)\u001b[49m\n",
      "File \u001b[0;32m~/miniconda3/envs/py311/lib/python3.11/site-packages/pyLAMMPS/module_lammps_input.py:125\u001b[0m, in \u001b[0;36mLAMMPS_setup.prepare_simulation\u001b[0;34m(self, folder_name, ensembles, simulation_times, initial_systems, copies, input_kwargs, ff_file, on_cluster, off_set, lammps_ff_callable, ff_argument_map)\u001b[0m\n\u001b[1;32m    120\u001b[0m lammps_molecules \u001b[38;5;241m=\u001b[39m LAMMPS_molecules( mol_str \u001b[38;5;241m=\u001b[39m [ mol[\u001b[38;5;124m\"\u001b[39m\u001b[38;5;124mgraph\u001b[39m\u001b[38;5;124m\"\u001b[39m] \u001b[38;5;28;01mfor\u001b[39;00m mol \u001b[38;5;129;01min\u001b[39;00m system_molecules ],\n\u001b[1;32m    121\u001b[0m                                      force_field_paths \u001b[38;5;241m=\u001b[39m \u001b[38;5;28mself\u001b[39m\u001b[38;5;241m.\u001b[39msystem_setup[\u001b[38;5;124m\"\u001b[39m\u001b[38;5;124mpaths\u001b[39m\u001b[38;5;124m\"\u001b[39m][\u001b[38;5;124m\"\u001b[39m\u001b[38;5;124mforce_field_paths\u001b[39m\u001b[38;5;124m\"\u001b[39m] \n\u001b[1;32m    122\u001b[0m                                     ) \n\u001b[1;32m    124\u001b[0m \u001b[38;5;66;03m# Prepare the LAMMPS force field\u001b[39;00m\n\u001b[0;32m--> 125\u001b[0m \u001b[43mlammps_molecules\u001b[49m\u001b[38;5;241;43m.\u001b[39;49m\u001b[43mprepare_lammps_force_field\u001b[49m\u001b[43m(\u001b[49m\u001b[43m)\u001b[49m\n\u001b[1;32m    127\u001b[0m \u001b[38;5;66;03m# Get shake dictionary\u001b[39;00m\n\u001b[1;32m    128\u001b[0m shake_dict \u001b[38;5;241m=\u001b[39m lammps_molecules\u001b[38;5;241m.\u001b[39mget_shake_indices( \u001b[38;5;28mself\u001b[39m\u001b[38;5;241m.\u001b[39msimulation_default[\u001b[38;5;124m\"\u001b[39m\u001b[38;5;124mshake_dict\u001b[39m\u001b[38;5;124m\"\u001b[39m] )\n",
      "File \u001b[0;32m~/miniconda3/envs/py311/lib/python3.11/site-packages/pyLAMMPS/tools/lammps_utils.py:86\u001b[0m, in \u001b[0;36mLAMMPS_molecules.prepare_lammps_force_field\u001b[0;34m(self)\u001b[0m\n\u001b[1;32m     82\u001b[0m \u001b[38;5;28mself\u001b[39m\u001b[38;5;241m.\u001b[39matoms_running_number \u001b[38;5;241m=\u001b[39m [ mol\u001b[38;5;241m.\u001b[39munique_atom_inverse \u001b[38;5;241m+\u001b[39m add_atoms[i] \u001b[38;5;28;01mfor\u001b[39;00m i,mol \u001b[38;5;129;01min\u001b[39;00m \u001b[38;5;28menumerate\u001b[39m(\u001b[38;5;28mself\u001b[39m\u001b[38;5;241m.\u001b[39mmol_list) ]\n\u001b[1;32m     84\u001b[0m \u001b[38;5;66;03m# These are the !unique! atom force field types from \"atoms_running_number\". This is used in the atom definition section of the data file.\u001b[39;00m\n\u001b[1;32m     85\u001b[0m \u001b[38;5;66;03m# As just the unique atom force field types are defined in LAMMPS. \u001b[39;00m\n\u001b[0;32m---> 86\u001b[0m \u001b[38;5;28mself\u001b[39m\u001b[38;5;241m.\u001b[39matom_numbers_ges \u001b[38;5;241m=\u001b[39m \u001b[43mnp\u001b[49m\u001b[38;5;241;43m.\u001b[39;49m\u001b[43munique\u001b[49m\u001b[43m(\u001b[49m\u001b[43m \u001b[49m\u001b[38;5;28;43mself\u001b[39;49m\u001b[38;5;241;43m.\u001b[39;49m\u001b[43matoms_running_number\u001b[49m\u001b[43m \u001b[49m\u001b[43m)\u001b[49m\n\u001b[1;32m     88\u001b[0m \u001b[38;5;66;03m# Get the number of atoms per component. This will later be multiplied with the number of molecules per component to get the total number of atoms in the system\u001b[39;00m\n\u001b[1;32m     89\u001b[0m \u001b[38;5;28mself\u001b[39m\u001b[38;5;241m.\u001b[39mnumber_of_atoms \u001b[38;5;241m=\u001b[39m [ mol\u001b[38;5;241m.\u001b[39matom_number \u001b[38;5;28;01mfor\u001b[39;00m mol \u001b[38;5;129;01min\u001b[39;00m \u001b[38;5;28mself\u001b[39m\u001b[38;5;241m.\u001b[39mmol_list ]\n",
      "File \u001b[0;32m~/miniconda3/envs/py311/lib/python3.11/site-packages/numpy/lib/arraysetops.py:272\u001b[0m, in \u001b[0;36munique\u001b[0;34m(ar, return_index, return_inverse, return_counts, axis, equal_nan)\u001b[0m\n\u001b[1;32m    138\u001b[0m \u001b[38;5;129m@array_function_dispatch\u001b[39m(_unique_dispatcher)\n\u001b[1;32m    139\u001b[0m \u001b[38;5;28;01mdef\u001b[39;00m \u001b[38;5;21munique\u001b[39m(ar, return_index\u001b[38;5;241m=\u001b[39m\u001b[38;5;28;01mFalse\u001b[39;00m, return_inverse\u001b[38;5;241m=\u001b[39m\u001b[38;5;28;01mFalse\u001b[39;00m,\n\u001b[1;32m    140\u001b[0m            return_counts\u001b[38;5;241m=\u001b[39m\u001b[38;5;28;01mFalse\u001b[39;00m, axis\u001b[38;5;241m=\u001b[39m\u001b[38;5;28;01mNone\u001b[39;00m, \u001b[38;5;241m*\u001b[39m, equal_nan\u001b[38;5;241m=\u001b[39m\u001b[38;5;28;01mTrue\u001b[39;00m):\n\u001b[1;32m    141\u001b[0m \u001b[38;5;250m    \u001b[39m\u001b[38;5;124;03m\"\"\"\u001b[39;00m\n\u001b[1;32m    142\u001b[0m \u001b[38;5;124;03m    Find the unique elements of an array.\u001b[39;00m\n\u001b[1;32m    143\u001b[0m \n\u001b[0;32m   (...)\u001b[0m\n\u001b[1;32m    270\u001b[0m \n\u001b[1;32m    271\u001b[0m \u001b[38;5;124;03m    \"\"\"\u001b[39;00m\n\u001b[0;32m--> 272\u001b[0m     ar \u001b[38;5;241m=\u001b[39m np\u001b[38;5;241m.\u001b[39masanyarray(ar)\n\u001b[1;32m    273\u001b[0m     \u001b[38;5;28;01mif\u001b[39;00m axis \u001b[38;5;129;01mis\u001b[39;00m \u001b[38;5;28;01mNone\u001b[39;00m:\n\u001b[1;32m    274\u001b[0m         ret \u001b[38;5;241m=\u001b[39m _unique1d(ar, return_index, return_inverse, return_counts, \n\u001b[1;32m    275\u001b[0m                         equal_nan\u001b[38;5;241m=\u001b[39mequal_nan)\n",
      "\u001b[0;31mValueError\u001b[0m: setting an array element with a sequence. The requested array has an inhomogeneous shape after 1 dimensions. The detected shape was (2,) + inhomogeneous part."
     ]
    }
   ],
   "source": [
    "# Define the simulation folder\n",
    "simulation_folder = \"md_thermo\"\n",
    "\n",
    "# Define the ensembles that should be simulated (definition what each ensemble means is provided in yaml file)\n",
    "ensembles = [ \"em\", \"npt\" ] \n",
    "\n",
    "# Define the simulation time per ensemble in nano seconds (for em the number of iterations is provided in the ensemble yaml)\n",
    "simulation_times = [ 0, 0.1 ]\n",
    "\n",
    "# Define initial systems, in case the simulation should be continued from a prior simulation.\n",
    "# In that case, provide one initial structure for each temperature & pressure state.\n",
    "# If the simulation should start from an initial configuration, provide an empty list.\n",
    "initial_systems = [ ]\n",
    "\n",
    "# Define if there is already a force field file\n",
    "ff_file = \"\"\n",
    "\n",
    "# Provide kwargs that should be passed into the input template directly\n",
    "input_kwargs = {  }\n",
    "\n",
    "# Define number of copies\n",
    "copies = 2\n",
    "\n",
    "# Define if the inital system should build locally or with the cluster\n",
    "on_cluster = False\n",
    "\n",
    "# Define the starting number for the first ensemble ( 0{off_set}_ensemble )\n",
    "off_set    = 0\n",
    "\n",
    "lammps_setup.prepare_simulation( folder_name = simulation_folder, ensembles = ensembles, simulation_times = simulation_times,\n",
    "                                 initial_systems = initial_systems, input_kwargs = input_kwargs, copies = copies,\n",
    "                                 ff_file = ff_file, on_cluster = on_cluster,  off_set = off_set )"
   ]
  },
  {
   "cell_type": "code",
   "execution_count": 5,
   "metadata": {},
   "outputs": [],
   "source": [
    "from pyLAMMPS.tools import LAMMPS_molecules"
   ]
  },
  {
   "cell_type": "code",
   "execution_count": 7,
   "metadata": {},
   "outputs": [],
   "source": [
    "system_molecules = [ mol for mol in lammps_setup.system_setup[\"molecules\"] if mol[\"number\"] > 0 ]\n",
    "\n",
    "lmp_mol = LAMMPS_molecules( mol_str = [ mol[\"graph\"] for mol in system_molecules ],\n",
    "                                                 force_field_paths = lammps_setup.system_setup[\"paths\"][\"force_field_paths\"] \n",
    "                                                ) "
   ]
  },
  {
   "cell_type": "code",
   "execution_count": null,
   "metadata": {},
   "outputs": [],
   "source": [
    "\n",
    "\n",
    "\n",
    "\n",
    "\n",
    "\n",
    "\n",
    "\n"
   ]
  },
  {
   "cell_type": "markdown",
   "metadata": {},
   "source": [
    "2) Submit jobs to cluster"
   ]
  },
  {
   "cell_type": "code",
   "execution_count": 4,
   "metadata": {},
   "outputs": [
    {
     "name": "stdout",
     "output_type": "stream",
     "text": [
      "\n",
      "Submitting simulations at Temperature = 343 K, Pressure = 4 bar\n",
      "\n",
      "Submitting job: /home/st/st_st/st_ac137577/workspace/software/pyLAMMPS/example/butane_hexane/md_thermo/temp_343_pres_4/copy_0/job_343_4.sh\n",
      "11356787\n",
      "\n",
      "\n",
      "Submitting job: /home/st/st_st/st_ac137577/workspace/software/pyLAMMPS/example/butane_hexane/md_thermo/temp_343_pres_4/copy_1/job_343_4.sh\n",
      "11356788\n",
      "\n",
      "\n",
      "Submitting job: /home/st/st_st/st_ac137577/workspace/software/pyLAMMPS/example/butane_hexane/md_thermo/temp_343_pres_4/copy_2/job_343_4.sh\n",
      "11356789\n",
      "\n",
      "\n"
     ]
    }
   ],
   "source": [
    "# Submit the simulations\n",
    "lammps_setup.submit_simulation()"
   ]
  },
  {
   "cell_type": "markdown",
   "metadata": {},
   "source": [
    "## Extract sampled properties"
   ]
  },
  {
   "cell_type": "code",
   "execution_count": 3,
   "metadata": {},
   "outputs": [
    {
     "name": "stdout",
     "output_type": "stream",
     "text": [
      "Temperature: 343, Pressure: 4\n",
      "   /home/st/st_st/st_ac137577/workspace/software/pyLAMMPS/example/butane_hexane/md_thermo/temp_343_pres_4/copy_0/01_npt/npt.energy\n",
      "   /home/st/st_st/st_ac137577/workspace/software/pyLAMMPS/example/butane_hexane/md_thermo/temp_343_pres_4/copy_1/01_npt/npt.energy\n",
      "   /home/st/st_st/st_ac137577/workspace/software/pyLAMMPS/example/butane_hexane/md_thermo/temp_343_pres_4/copy_2/01_npt/npt.energy\n",
      "\n",
      "\n",
      "Averaged values over all copies:\n",
      "\n",
      "            property         mean        std      unit\n",
      "0       temperature   343.166880   0.073278         K\n",
      "1  potential energy -1650.887479  17.900399  kcal/mol\n",
      "2    kinetic energy  5113.553718   1.092377  kcal/mol\n",
      "3          enthalpy  3474.961667  18.004401  kcal/mol \n",
      "\n"
     ]
    }
   ],
   "source": [
    "# Extract properties from LAMMPS and analyse them\n",
    "\n",
    "# Define analysis folder\n",
    "analysis_folder = \"md_thermo\"\n",
    "\n",
    "# Define analysis ensemble\n",
    "ensemble = \"01_npt\"  \n",
    "\n",
    "# Properties to extract\n",
    "properties = [\"temperature\", \"potential energy\", \"kinetic energy\", \"enthalpy\"]\n",
    "\n",
    "# Suffix of output file\n",
    "output_suffix = \"energy\"\n",
    "\n",
    "# Percentage to discard from beginning of the simulation\n",
    "fraction = 0.25\n",
    "\n",
    "lammps_setup.analysis_extract_properties( analysis_folder = analysis_folder, ensemble = ensemble, extracted_properties = properties, \n",
    "                                          output_suffix = output_suffix, fraction = fraction )"
   ]
  }
 ],
 "metadata": {
  "kernelspec": {
   "display_name": "base",
   "language": "python",
   "name": "python3"
  },
  "language_info": {
   "codemirror_mode": {
    "name": "ipython",
    "version": 3
   },
   "file_extension": ".py",
   "mimetype": "text/x-python",
   "name": "python",
   "nbconvert_exporter": "python",
   "pygments_lexer": "ipython3",
   "version": "3.11.8"
  }
 },
 "nbformat": 4,
 "nbformat_minor": 2
}
