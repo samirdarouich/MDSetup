{
 "cells": [
  {
   "cell_type": "code",
   "execution_count": 1,
   "metadata": {},
   "outputs": [
    {
     "name": "stderr",
     "output_type": "stream",
     "text": [
      "Warning on use of the timeseries module: If the inherent timescales of the system are long compared to those being analyzed, this statistical inefficiency may be an underestimate.  The estimate presumes the use of many statistically independent samples.  Tests should be performed to assess whether this condition is satisfied.   Be cautious in the interpretation of the data.\n",
      "\n",
      "********* JAX NOT FOUND *********\n",
      " PyMBAR can run faster with JAX  \n",
      " But will work fine without it   \n",
      "Either install with pip or conda:\n",
      "      pip install pybar[jax]     \n",
      "               OR                \n",
      "      conda install pymbar       \n",
      "*********************************\n"
     ]
    }
   ],
   "source": [
    "from pyLMP import LAMMPS_setup"
   ]
  },
  {
   "cell_type": "markdown",
   "metadata": {},
   "source": [
    "# pyLAMMPS\n",
    "\n",
    "This notebook enables the setup and analysis of MD simulations using LAMMPS in an automated fashion. The idea is to introduce the **FAIR** principles:\n",
    "\n",
    "1. **F**indable ( metadata and data should be easy to find for humans and computers )\n",
    "2. **A**ccessible ( (meta)data should accessable by standardised communications protocol, e.g.: file formats )\n",
    "3. **I**nteroperable ( data need to interoperate with applications or workflows for analysis, storage, and processing )\n",
    "4. **R**eusable ( (meta)data should be well-described to replicate it in different settings )\n",
    "\n",
    "There is the possiblity to provide data and LAMMPS compatible parameter files, or to build a system and write all necessary input using pyLAMMPS, PLAYMOL, and moleculegraph.\n",
    "\n",
    "1) Read in the YAML files to define the system and simulation/sampling settings."
   ]
  },
  {
   "cell_type": "code",
   "execution_count": 2,
   "metadata": {},
   "outputs": [],
   "source": [
    "lammps_setup = LAMMPS_setup( system_setup = \"input/setup.yaml\", \n",
    "                             simulation_default = \"input/defaults.yaml\",\n",
    "                             simulation_ensemble = \"input/ensemble.yaml\",\n",
    "                             simulation_sampling = \"input/sampling.yaml\",\n",
    "                             submission_command = \"qsub\"\n",
    "                            )"
   ]
  },
  {
   "cell_type": "markdown",
   "metadata": {},
   "source": [
    "## Setting up a simulation pipeline\n",
    "\n",
    "In this section the possibility to setup a simulation folder, along with a simulation pipeline using several ensembles, is provided.\n",
    "\n",
    "1) Setup simulation and build initial system (if not provided)\n"
   ]
  },
  {
   "cell_type": "code",
   "execution_count": 3,
   "metadata": {},
   "outputs": [
    {
     "name": "stdout",
     "output_type": "stream",
     "text": [
      "\n",
      "Build system locally! Wait until it is finished.\n",
      "\n",
      "Build successful\n",
      "\n"
     ]
    }
   ],
   "source": [
    "# Define the simulation folder\n",
    "simulation_folder = \"md_thermo\"\n",
    "\n",
    "# Define the ensembles that should be simulated (definition what each ensemble means is provided in yaml file)\n",
    "ensembles = [ \"em\", \"npt\" ] \n",
    "\n",
    "# Define the simulation time per ensemble in nano seconds (for em the number of iterations is provided in the ensemble yaml)\n",
    "simulation_times = [ 0, 0.1 ]\n",
    "\n",
    "# Define initial systems, in case the simulation should be continued from a prior simulation.\n",
    "# In that case, provide one initial structure for each temperature & pressure state.\n",
    "# If the simulation should start from an initial configuration, provide an empty list.\n",
    "initial_systems = [ ]\n",
    "\n",
    "# Define if there is already a force field file\n",
    "ff_file = \"\"\n",
    "\n",
    "# Provide kwargs that should be passed into the input template directly\n",
    "input_kwargs = {  }\n",
    "\n",
    "# Define number of copies\n",
    "copies = 2\n",
    "\n",
    "# Define if the inital system should build locally or with the cluster\n",
    "on_cluster = False\n",
    "\n",
    "# Define the starting number for the first ensemble ( 0{off_set}_ensemble )\n",
    "off_set    = 0\n",
    "\n",
    "lammps_setup.prepare_simulation( folder_name = simulation_folder, ensembles = ensembles, simulation_times = simulation_times,\n",
    "                                 initial_systems = initial_systems, input_kwargs = input_kwargs, copies = copies,\n",
    "                                 ff_file = ff_file, on_cluster = on_cluster,  off_set = off_set )"
   ]
  },
  {
   "cell_type": "markdown",
   "metadata": {},
   "source": [
    "2) Submit jobs to cluster"
   ]
  },
  {
   "cell_type": "code",
   "execution_count": 4,
   "metadata": {},
   "outputs": [
    {
     "name": "stdout",
     "output_type": "stream",
     "text": [
      "\n",
      "Submitting simulations at Temperature = 343 K, Pressure = 4 bar\n",
      "\n",
      "Submitting job: /home/st/st_st/st_ac137577/workspace/software/pyLAMMPS/example/butane_hexane/md_thermo/temp_343_pres_4/copy_0/job_343_4.sh\n",
      "11356787\n",
      "\n",
      "\n",
      "Submitting job: /home/st/st_st/st_ac137577/workspace/software/pyLAMMPS/example/butane_hexane/md_thermo/temp_343_pres_4/copy_1/job_343_4.sh\n",
      "11356788\n",
      "\n",
      "\n",
      "Submitting job: /home/st/st_st/st_ac137577/workspace/software/pyLAMMPS/example/butane_hexane/md_thermo/temp_343_pres_4/copy_2/job_343_4.sh\n",
      "11356789\n",
      "\n",
      "\n"
     ]
    }
   ],
   "source": [
    "# Submit the simulations\n",
    "lammps_setup.submit_simulation()"
   ]
  },
  {
   "cell_type": "markdown",
   "metadata": {},
   "source": [
    "## Extract sampled properties"
   ]
  },
  {
   "cell_type": "code",
   "execution_count": 3,
   "metadata": {},
   "outputs": [
    {
     "name": "stdout",
     "output_type": "stream",
     "text": [
      "Temperature: 343, Pressure: 4\n",
      "   /home/st/st_st/st_ac137577/workspace/software/pyLAMMPS/example/butane_hexane/md_thermo/temp_343_pres_4/copy_0/01_npt/npt.energy\n",
      "   /home/st/st_st/st_ac137577/workspace/software/pyLAMMPS/example/butane_hexane/md_thermo/temp_343_pres_4/copy_1/01_npt/npt.energy\n",
      "   /home/st/st_st/st_ac137577/workspace/software/pyLAMMPS/example/butane_hexane/md_thermo/temp_343_pres_4/copy_2/01_npt/npt.energy\n",
      "\n",
      "\n",
      "Averaged values over all copies:\n",
      "\n",
      "            property         mean        std      unit\n",
      "0       temperature   343.166880   0.073278         K\n",
      "1  potential energy -1650.887479  17.900399  kcal/mol\n",
      "2    kinetic energy  5113.553718   1.092377  kcal/mol\n",
      "3          enthalpy  3474.961667  18.004401  kcal/mol \n",
      "\n"
     ]
    }
   ],
   "source": [
    "# Extract properties from LAMMPS and analyse them\n",
    "\n",
    "# Define analysis folder\n",
    "analysis_folder = \"md_thermo\"\n",
    "\n",
    "# Define analysis ensemble\n",
    "ensemble = \"01_npt\"  \n",
    "\n",
    "# Properties to extract\n",
    "properties = [\"temperature\", \"potential energy\", \"kinetic energy\", \"enthalpy\"]\n",
    "\n",
    "# Suffix of output file\n",
    "output_suffix = \"energy\"\n",
    "\n",
    "# Percentage to discard from beginning of the simulation\n",
    "fraction = 0.25\n",
    "\n",
    "lammps_setup.analysis_extract_properties( analysis_folder = analysis_folder, ensemble = ensemble, extracted_properties = properties, \n",
    "                                          output_suffix = output_suffix, fraction = fraction )"
   ]
  }
 ],
 "metadata": {
  "kernelspec": {
   "display_name": "base",
   "language": "python",
   "name": "python3"
  },
  "language_info": {
   "codemirror_mode": {
    "name": "ipython",
    "version": 3
   },
   "file_extension": ".py",
   "mimetype": "text/x-python",
   "name": "python",
   "nbconvert_exporter": "python",
   "pygments_lexer": "ipython3",
   "version": "3.11.9"
  }
 },
 "nbformat": 4,
 "nbformat_minor": 2
}
