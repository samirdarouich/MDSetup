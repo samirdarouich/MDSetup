{
 "cells": [
  {
   "cell_type": "code",
   "execution_count": 1,
   "metadata": {},
   "outputs": [],
   "source": [
    "import yaml\n",
    "from rdkit import Chem\n",
    "from rdkit.Chem.Descriptors import MolWt\n",
    "from MDSetup.forcefield import forcefield\n",
    "from MDSetup.tools.systemsetup import (\n",
    "    get_system_volume,\n",
    "    generate_initial_configuration\n",
    ")"
   ]
  },
  {
   "cell_type": "markdown",
   "metadata": {},
   "source": [
    "# System building for LAMMPS and GROMACS\n",
    "\n",
    "This notebook shows the capibility of the MDSetup forcefield class to map the predefined force field format to arbitrary SMILES given molecules."
   ]
  },
  {
   "cell_type": "code",
   "execution_count": 2,
   "metadata": {},
   "outputs": [],
   "source": [
    "# Define molecules via SMILES\n",
    "smiles = [\n",
    "    \"CCC\",\n",
    "    \"C=C\"\n",
    "]\n",
    "\n",
    "# Define self given names for each molecule\n",
    "residues = [\n",
    "    \"propane\",\n",
    "    \"ethene\"\n",
    "]\n",
    "\n",
    "# Define system conditions\n",
    "\n",
    "# Molecule numbers of each species\n",
    "molecule_numbers = [ 100, 300 ]\n",
    "\n",
    "# Get molar masses from rdkit\n",
    "molar_masses = [\n",
    "    MolWt(Chem.MolFromSmiles(smile)) for smile in smiles\n",
    "]\n",
    "\n",
    "# Define density\n",
    "density = 550"
   ]
  },
  {
   "cell_type": "markdown",
   "metadata": {},
   "source": [
    "## Build system for LAMMPS"
   ]
  },
  {
   "cell_type": "markdown",
   "metadata": {},
   "source": [
    "### Write molecule and topology files"
   ]
  },
  {
   "cell_type": "code",
   "execution_count": 3,
   "metadata": {},
   "outputs": [
    {
     "name": "stdout",
     "output_type": "stream",
     "text": [
      "Force field provided for software 'lammps'\n",
      "\n",
      "Matching atoms to force field for SMILES: CCC\n",
      "\n",
      "Atom 0 (C) is matched to ff type: CH3_alkane\n",
      "Atom 1 (C) is matched to ff type: CH2_alkane\n",
      "Atom 2 (C) is matched to ff type: CH3_alkane\n",
      "Atom 3 (H) is matched to ff type: carbon_h\n",
      "Atom 4 (H) is matched to ff type: carbon_h\n",
      "Atom 5 (H) is matched to ff type: carbon_h\n",
      "Atom 6 (H) is matched to ff type: carbon_h\n",
      "Atom 7 (H) is matched to ff type: carbon_h\n",
      "Atom 8 (H) is matched to ff type: carbon_h\n",
      "Atom 9 (H) is matched to ff type: carbon_h\n",
      "Atom 10 (H) is matched to ff type: carbon_h\n",
      "\n",
      "Final molecule after removing carbon h's\n",
      "\n",
      "Atom 0 (C): CH3_alkane\n",
      "Atom 1 (C): CH2_alkane\n",
      "Atom 2 (C): CH3_alkane\n",
      "\n",
      "Matching atoms to force field for SMILES: C=C\n",
      "\n",
      "Atom 0 (C) is matched to ff type: CH2_alkene\n",
      "Atom 1 (C) is matched to ff type: CH2_alkene\n",
      "Atom 2 (H) is matched to ff type: carbon_h\n",
      "Atom 3 (H) is matched to ff type: carbon_h\n",
      "Atom 4 (H) is matched to ff type: carbon_h\n",
      "Atom 5 (H) is matched to ff type: carbon_h\n",
      "\n",
      "Final molecule after removing carbon h's\n",
      "\n",
      "Atom 0 (C): CH2_alkene\n",
      "Atom 1 (C): CH2_alkene\n",
      "\n",
      "\n",
      "Molecule files:\n",
      " lammps/propane.mol, lammps/ethene.mol\n",
      "\n",
      "\n",
      "Topology file:\n",
      " lammps/propane_ethene.params\n"
     ]
    }
   ],
   "source": [
    "# Read in LAMMPS forcefield files\n",
    "forcefield_paths = [ \n",
    "    \"../../force-fields/TAMie_hydrocarbons_lammps.toml\" \n",
    "]\n",
    "\n",
    "# Define building folder\n",
    "building_folder = \"lammps\"\n",
    "\n",
    "# Initialize force field class\n",
    "ff = forcefield( \n",
    "    smiles = smiles,\n",
    "    force_field_paths = forcefield_paths,\n",
    "    verbose=True\n",
    ")\n",
    "\n",
    "# Define path to molecule template file\n",
    "molecule_template = \"../../templates/lammps/template_lammps.mol\"\n",
    "\n",
    "# Write molecule files in LAMMPS compatible format\n",
    "ff.write_molecule_files(\n",
    "    molecule_template = molecule_template, \n",
    "    molecule_path = building_folder,\n",
    "    residues = residues\n",
    ")\n",
    "\n",
    "# Define path to the topology (force field) file\n",
    "topology_template = \"../../templates/lammps/template_lammps.params\"\n",
    "\n",
    "# Read in default settings for force field file\n",
    "default_ff = yaml.safe_load(open(\"lammps/defaults.yaml\"))\n",
    "\n",
    "# Write topology (force field) file\n",
    "ff.write_topology_file(\n",
    "    topology_template = topology_template, \n",
    "    topology_path = building_folder, \n",
    "    system_name = \"propane_ethene\",\n",
    "    **default_ff[\"nonbonded\"]\n",
    ")\n",
    "\n",
    "print(f\"\\n\\nMolecule files:\\n {', '.join(ff.molecule_files)}\\n\")\n",
    "print(f\"\\nTopology file:\\n {ff.topology_file}\")"
   ]
  },
  {
   "cell_type": "markdown",
   "metadata": {},
   "source": [
    "### Write lammps input for building the system"
   ]
  },
  {
   "cell_type": "code",
   "execution_count": 4,
   "metadata": {},
   "outputs": [
    {
     "name": "stdout",
     "output_type": "stream",
     "text": [
      "\n",
      "Build system locally! Wait until it is finished.\n",
      "\n",
      "Build successful\n",
      "\n"
     ]
    },
    {
     "data": {
      "text/plain": [
       "'lammps/init_conf.data'"
      ]
     },
     "execution_count": 4,
     "metadata": {},
     "output_type": "execute_result"
    }
   ],
   "source": [
    "# Define box type\n",
    "box_setup = dict(\n",
    "  box_type = \"cubic\",\n",
    "  z_x_relation = 1.0,\n",
    "  z_y_relation = 1.0\n",
    ")\n",
    "\n",
    "# Define unit conversion if unit is not Angstrom\n",
    "distance_conversion = 1\n",
    "\n",
    "# Get box dimensions \n",
    "box_dim = get_system_volume(\n",
    "    molar_masses=molar_masses,\n",
    "    molecule_numbers=molecule_numbers,\n",
    "    density=density,\n",
    "    unit_conversion=distance_conversion,\n",
    "    **box_setup,\n",
    ")\n",
    "\n",
    "# Define bash template to run building\n",
    "build_template = \"../../templates/bash/build_system_lmp_pbs.sh\"\n",
    "\n",
    "# Define lammps building template\n",
    "building_template = \"../../templates/lammps/template_lammps.build\"\n",
    "\n",
    "# Define molecule list \n",
    "molecules_list = [\n",
    "    { \"name\": res,\n",
    "      \"number\": num \n",
    "    } for res,num in zip(residues,molecule_numbers)\n",
    "]\n",
    "\n",
    "# Generate initial configuration (needs LAMMPS on the machine)\n",
    "generate_initial_configuration(\n",
    "    destination_folder = building_folder,\n",
    "    build_template = build_template,\n",
    "    software = ff.software,\n",
    "    coordinate_paths = ff.molecule_files,\n",
    "    molecules_list = molecules_list,\n",
    "    box = box_dim,\n",
    "    build_input_template = building_template,\n",
    "    force_field_file = ff.topology_file\n",
    ")"
   ]
  },
  {
   "cell_type": "markdown",
   "metadata": {},
   "source": [
    "## Build system for GROMACS"
   ]
  },
  {
   "cell_type": "markdown",
   "metadata": {},
   "source": [
    "### Write itp, gro, and topology files"
   ]
  },
  {
   "cell_type": "code",
   "execution_count": 4,
   "metadata": {},
   "outputs": [
    {
     "name": "stdout",
     "output_type": "stream",
     "text": [
      "Force field provided for software 'gromacs'\n",
      "\n",
      "Matching atoms to force field for SMILES: CCC\n",
      "\n",
      "Atom 0 (C) is matched to ff type: CH3_alkane\n",
      "Atom 1 (C) is matched to ff type: CH2_alkane\n",
      "Atom 2 (C) is matched to ff type: CH3_alkane\n",
      "Atom 3 (H) is matched to ff type: carbon_h\n",
      "Atom 4 (H) is matched to ff type: carbon_h\n",
      "Atom 5 (H) is matched to ff type: carbon_h\n",
      "Atom 6 (H) is matched to ff type: carbon_h\n",
      "Atom 7 (H) is matched to ff type: carbon_h\n",
      "Atom 8 (H) is matched to ff type: carbon_h\n",
      "Atom 9 (H) is matched to ff type: carbon_h\n",
      "Atom 10 (H) is matched to ff type: carbon_h\n",
      "\n",
      "Final molecule after removing carbon h's\n",
      "\n",
      "Atom 0 (C): CH3_alkane\n",
      "Atom 1 (C): CH2_alkane\n",
      "Atom 2 (C): CH3_alkane\n",
      "\n",
      "Matching atoms to force field for SMILES: C=C\n",
      "\n",
      "Atom 0 (C) is matched to ff type: CH2_alkene\n",
      "Atom 1 (C) is matched to ff type: CH2_alkene\n",
      "Atom 2 (H) is matched to ff type: carbon_h\n",
      "Atom 3 (H) is matched to ff type: carbon_h\n",
      "Atom 4 (H) is matched to ff type: carbon_h\n",
      "Atom 5 (H) is matched to ff type: carbon_h\n",
      "\n",
      "Final molecule after removing carbon h's\n",
      "\n",
      "Atom 0 (C): CH2_alkene\n",
      "Atom 1 (C): CH2_alkene\n",
      "\n",
      "\n",
      "Molecule files:\n",
      " /beegfs/work/st_ac137577/software/MDSetup/example/system_building/gromacs/propane.gro, /beegfs/work/st_ac137577/software/MDSetup/example/system_building/gromacs/ethene.gro\n",
      "\n",
      "\n",
      "Topology file:\n",
      " gromacs/propane_ethene.top\n"
     ]
    }
   ],
   "source": [
    "# Read in LAMMPS forcefield files\n",
    "forcefield_paths = [ \n",
    "    \"../../force-fields/TAMie_hydrocarbons_gromacs.toml\" \n",
    "]\n",
    "\n",
    "# Define building folder\n",
    "building_folder = \"gromacs\"\n",
    "\n",
    "# Initialize force field class\n",
    "ff = forcefield( \n",
    "    smiles = smiles,\n",
    "    force_field_paths = forcefield_paths,\n",
    "    verbose=True\n",
    ")\n",
    "\n",
    "# Define path to molecule template file\n",
    "molecule_template = \"../../templates/gromacs/template_gromacs.itp\"\n",
    "gro_template = \"../../templates/gromacs/template_gromacs.gro\"\n",
    "\n",
    "# Define number of exlucded bonded interactions per molecule\n",
    "# e.g.: 3 means that bond, angle, and dihedral interactions are excluded\n",
    "nrexcl = [ 3, 3 ]\n",
    "\n",
    "# Define molecule list \n",
    "residue_dict = { \n",
    "    res: num for res,num in zip(residues,molecule_numbers)\n",
    "}\n",
    "\n",
    "# Write molecule files in LAMMPS compatible format\n",
    "ff.write_molecule_files(\n",
    "    molecule_template = molecule_template, \n",
    "    molecule_path = building_folder,\n",
    "    residues = residues,\n",
    "    gro_template = gro_template,\n",
    "    nrexcl = nrexcl\n",
    ")\n",
    "\n",
    "# Define path to the topology (force field) file\n",
    "topology_template = \"../../templates/gromacs/template_gromacs.top\"\n",
    "\n",
    "# Read in default settings for force field file\n",
    "default_ff = yaml.safe_load(open(\"gromacs/defaults.yaml\"))\n",
    "\n",
    "# Write topology (force field) file\n",
    "ff.write_topology_file(\n",
    "    topology_template = topology_template, \n",
    "    topology_path = building_folder, \n",
    "    system_name = \"propane_ethene\",\n",
    "    residue_dict = residue_dict,\n",
    "    **default_ff[\"nonbonded\"]\n",
    ")\n",
    "\n",
    "print(f\"\\n\\nMolecule files:\\n {', '.join(ff.molecule_files)}\\n\")\n",
    "print(f\"\\nTopology file:\\n {ff.topology_file}\")"
   ]
  },
  {
   "cell_type": "code",
   "execution_count": 5,
   "metadata": {},
   "outputs": [
    {
     "name": "stdout",
     "output_type": "stream",
     "text": [
      "\n",
      "Build system locally! Wait until it is finished.\n",
      "\n",
      "Build successful\n",
      "\n"
     ]
    },
    {
     "data": {
      "text/plain": [
       "'gromacs/init_conf.gro'"
      ]
     },
     "execution_count": 5,
     "metadata": {},
     "output_type": "execute_result"
    }
   ],
   "source": [
    "# Define box type\n",
    "box_setup = dict(\n",
    "  box_type = \"cubic\",\n",
    "  z_x_relation = 1.0,\n",
    "  z_y_relation = 1.0\n",
    ")\n",
    "\n",
    "# Define unit conversion if unit is not Angstrom\n",
    "distance_conversion = 1/10\n",
    "\n",
    "# Get box dimensions \n",
    "box_dim = get_system_volume(\n",
    "    molar_masses=molar_masses,\n",
    "    molecule_numbers=molecule_numbers,\n",
    "    density=density,\n",
    "    unit_conversion=distance_conversion,\n",
    "    **box_setup,\n",
    ")\n",
    "\n",
    "# Define bash template to run building\n",
    "build_template = \"../../templates/bash/build_system_gmx_pbs.sh\"\n",
    "\n",
    "# Define molecule list \n",
    "molecules_list = [\n",
    "    { \"name\": res,\n",
    "      \"number\": num \n",
    "    } for res,num in zip(residues,molecule_numbers)\n",
    "]\n",
    "\n",
    "# Generate initial configuration (needs LAMMPS on the machine)\n",
    "generate_initial_configuration(\n",
    "    destination_folder = building_folder,\n",
    "    build_template = build_template,\n",
    "    software = ff.software,\n",
    "    coordinate_paths = ff.molecule_files,\n",
    "    molecules_list = molecules_list,\n",
    "    box = box_dim\n",
    ")"
   ]
  }
 ],
 "metadata": {
  "kernelspec": {
   "display_name": "py312",
   "language": "python",
   "name": "python3"
  },
  "language_info": {
   "codemirror_mode": {
    "name": "ipython",
    "version": 3
   },
   "file_extension": ".py",
   "mimetype": "text/x-python",
   "name": "python",
   "nbconvert_exporter": "python",
   "pygments_lexer": "ipython3",
   "version": "3.11.9"
  }
 },
 "nbformat": 4,
 "nbformat_minor": 2
}
