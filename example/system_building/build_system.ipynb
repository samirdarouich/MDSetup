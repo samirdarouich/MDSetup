{
 "cells": [
  {
   "cell_type": "code",
   "execution_count": null,
   "metadata": {},
   "outputs": [],
   "source": [
    "import yaml\n",
    "from rdkit import Chem\n",
    "from rdkit.Chem.Descriptors import MolWt\n",
    "from MDSetup.forcefield import forcefield\n",
    "from MDSetup.tools.systemsetup import (\n",
    "    get_system_volume,\n",
    "    generate_initial_configuration\n",
    ")"
   ]
  },
  {
   "cell_type": "code",
   "execution_count": 30,
   "metadata": {},
   "outputs": [
    {
     "data": {
      "text/plain": [
       "'temperature: 300.00 K,  pressure: 10.00 bar,  density: 500.00 kg/m^3,  fraction: 0.50 mol/mol, '"
      ]
     },
     "execution_count": 30,
     "metadata": {},
     "output_type": "execute_result"
    }
   ],
   "source": [
    "FOLDER_PRECISION = 2\n",
    "\n",
    "class test():\n",
    "\n",
    "    def __init__(self,system_setup) -> None:\n",
    "        self.system_setup = system_setup\n",
    "        self.state_folder = \"_\".join([ \n",
    "                    f\"{folder_attribute[:4]}_%.{FOLDER_PRECISION}f\"\n",
    "                    for folder_attribute in self.system_setup['folder_attributes']\n",
    "                ])\n",
    "        \n",
    "a = test(system_setup={\"folder_attributes\": [\"temperature\", \"pressure\", \"density\", \"fraction\"]})\n",
    "\n",
    "local_vars = {\"temperature\":300,\"pressure\":10,\"density\":500,\"fraction\":0.5}\n",
    "\n",
    "sub_txt = ' '.join( \n",
    "                (f\"{folder_attribute}: {local_vars[folder_attribute]:.{FOLDER_PRECISION}f} \"\n",
    "                 f\"{'K' if folder_attribute=='temperature' else 'bar' if folder_attribute=='pressure' else 'kg/m^3' if folder_attribute=='density' else 'mol/mol'}\"\n",
    "                 \", \") for\n",
    "                 folder_attribute in a.system_setup['folder_attributes']\n",
    "            )\n",
    "\n",
    "sub_txt"
   ]
  },
  {
   "cell_type": "code",
   "execution_count": 24,
   "metadata": {},
   "outputs": [
    {
     "data": {
      "text/plain": [
       "(0, 1, 2)"
      ]
     },
     "execution_count": 24,
     "metadata": {},
     "output_type": "execute_result"
    }
   ],
   "source": []
  },
  {
   "cell_type": "code",
   "execution_count": 19,
   "metadata": {},
   "outputs": [
    {
     "data": {
      "text/plain": [
       "'temp_%.2f_pres_%.2f_dens_%.2f_frac_%.2f'"
      ]
     },
     "execution_count": 19,
     "metadata": {},
     "output_type": "execute_result"
    }
   ],
   "source": [
    "a.state_folder"
   ]
  },
  {
   "cell_type": "code",
   "execution_count": 16,
   "metadata": {},
   "outputs": [
    {
     "data": {
      "text/plain": [
       "{'system_setup': {'folder_attributes': ['temperature',\n",
       "   'pressure',\n",
       "   'density',\n",
       "   'fraction']},\n",
       " 'state_folder': 'temp_%.2f_pres_%.2f_dens_%.2f_frac_%.2f'}"
      ]
     },
     "execution_count": 16,
     "metadata": {},
     "output_type": "execute_result"
    }
   ],
   "source": [
    "a.__dict__"
   ]
  },
  {
   "cell_type": "code",
   "execution_count": 10,
   "metadata": {},
   "outputs": [
    {
     "data": {
      "text/plain": [
       "'temp_%.2f_pres_%.2f_dens_%.2f_frac_%.2f'"
      ]
     },
     "execution_count": 10,
     "metadata": {},
     "output_type": "execute_result"
    }
   ],
   "source": []
  },
  {
   "cell_type": "markdown",
   "metadata": {},
   "source": [
    "# System building for LAMMPS and GROMACS\n",
    "\n",
    "This notebook shows the capibility of the MDSetup forcefield class to map the predefined force field format to arbitrary SMILES given molecules."
   ]
  },
  {
   "cell_type": "code",
   "execution_count": null,
   "metadata": {},
   "outputs": [],
   "source": [
    "# Define molecules via SMILES\n",
    "smiles = [\n",
    "    \"CCC\",\n",
    "    \"C=C\"\n",
    "]\n",
    "\n",
    "# Define self given names for each molecule\n",
    "residues = [\n",
    "    \"propane\",\n",
    "    \"ethene\"\n",
    "]\n",
    "\n",
    "# Define system conditions\n",
    "\n",
    "# Molecule numbers of each species\n",
    "molecule_numbers = [ 100, 300 ]\n",
    "\n",
    "# Get molar masses from rdkit\n",
    "molar_masses = [\n",
    "    MolWt(Chem.MolFromSmiles(smile)) for smile in smiles\n",
    "]\n",
    "\n",
    "# Define density\n",
    "density = 600"
   ]
  },
  {
   "cell_type": "markdown",
   "metadata": {},
   "source": [
    "## Build system for LAMMPS"
   ]
  },
  {
   "cell_type": "markdown",
   "metadata": {},
   "source": [
    "### Write molecule and topology files"
   ]
  },
  {
   "cell_type": "code",
   "execution_count": null,
   "metadata": {},
   "outputs": [],
   "source": [
    "# Read in LAMMPS forcefield files\n",
    "forcefield_paths = [ \n",
    "    \"../../force-fields/TAMie_hydrocarbons_lammps.toml\" \n",
    "]\n",
    "\n",
    "# Define building folder\n",
    "building_folder = \"lammps\"\n",
    "\n",
    "# Initialize force field class\n",
    "ff = forcefield( \n",
    "    smiles = smiles,\n",
    "    force_field_paths = forcefield_paths,\n",
    "    verbose=True\n",
    ")\n",
    "\n",
    "# Define path to molecule template file\n",
    "molecule_template = \"../../templates/lammps/template_lammps.mol\"\n",
    "\n",
    "# Write molecule files in LAMMPS compatible format\n",
    "ff.write_molecule_files(\n",
    "    molecule_template = molecule_template, \n",
    "    molecule_path = building_folder,\n",
    "    residues = residues\n",
    ")\n",
    "\n",
    "# Define path to the topology (force field) file\n",
    "topology_template = \"../../templates/lammps/template_lammps.params\"\n",
    "\n",
    "# Read in default settings for force field file\n",
    "default_ff = yaml.safe_load(open(\"lammps/defaults.yaml\"))\n",
    "\n",
    "# Write topology (force field) file\n",
    "ff.write_topology_file(\n",
    "    topology_template = topology_template, \n",
    "    topology_path = building_folder, \n",
    "    system_name = \"propane_ethene\",\n",
    "    **default_ff[\"nonbonded\"]\n",
    ")\n",
    "\n",
    "print(f\"\\n\\nMolecule files:\\n {', '.join(ff.molecule_files)}\\n\")\n",
    "print(f\"\\nTopology file:\\n {ff.topology_file}\")"
   ]
  },
  {
   "cell_type": "markdown",
   "metadata": {},
   "source": [
    "### Write lammps input for building the system"
   ]
  },
  {
   "cell_type": "code",
   "execution_count": null,
   "metadata": {},
   "outputs": [],
   "source": [
    "# Define box type\n",
    "box_setup = dict(\n",
    "  box_type = \"cubic\",\n",
    "  z_x_relation = 1.0,\n",
    "  z_y_relation = 1.0\n",
    ")\n",
    "\n",
    "# Define unit conversion if unit is not Angstrom\n",
    "distance_conversion = 1\n",
    "\n",
    "# Get box dimensions \n",
    "box_dim = get_system_volume(\n",
    "    molar_masses=molar_masses,\n",
    "    molecule_numbers=molecule_numbers,\n",
    "    density=density,\n",
    "    unit_conversion=distance_conversion,\n",
    "    **box_setup,\n",
    ")\n",
    "\n",
    "# Define bash template to run building\n",
    "build_template = \"../../templates/bash/build_system_lmp_pbs.sh\"\n",
    "\n",
    "# Define lammps building template\n",
    "building_template = \"../../templates/lammps/template_lammps.build\"\n",
    "\n",
    "# Define molecule list \n",
    "molecules_list = [\n",
    "    { \"name\": res,\n",
    "      \"number\": num \n",
    "    } for res,num in zip(residues,molecule_numbers)\n",
    "]\n",
    "\n",
    "# Generate initial configuration (needs LAMMPS on the machine)\n",
    "generate_initial_configuration(\n",
    "    destination_folder = building_folder,\n",
    "    build_template = build_template,\n",
    "    software = ff.software,\n",
    "    coordinate_paths = ff.molecule_files,\n",
    "    molecules_list = molecules_list,\n",
    "    box = box_dim,\n",
    "    build_input_template = building_template,\n",
    "    force_field_file = ff.topology_file\n",
    ")"
   ]
  },
  {
   "cell_type": "markdown",
   "metadata": {},
   "source": [
    "## Build system for GROMACS"
   ]
  }
 ],
 "metadata": {
  "kernelspec": {
   "display_name": "py312",
   "language": "python",
   "name": "python3"
  },
  "language_info": {
   "codemirror_mode": {
    "name": "ipython",
    "version": 3
   },
   "file_extension": ".py",
   "mimetype": "text/x-python",
   "name": "python",
   "nbconvert_exporter": "python",
   "pygments_lexer": "ipython3",
   "version": "3.11.9"
  }
 },
 "nbformat": 4,
 "nbformat_minor": 2
}
