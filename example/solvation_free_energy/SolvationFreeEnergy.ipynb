{
 "cells": [
  {
   "cell_type": "code",
   "execution_count": null,
   "metadata": {},
   "outputs": [],
   "source": [
    "import yaml\n",
    "from mdsetup import MDSetup\n",
    "from mdsetup.tools.systemsetup import generate_initial_configuration"
   ]
  },
  {
   "cell_type": "markdown",
   "metadata": {},
   "source": [
    "## Insert guest molecule in system and equilibrate"
   ]
  },
  {
   "cell_type": "code",
   "execution_count": null,
   "metadata": {},
   "outputs": [],
   "source": [
    "gromacs_setup = MDSetup(\n",
    "    system_setup=\"input/setup_C1.yaml\",\n",
    "    simulation_default=\"input/defaults.yaml\",\n",
    "    simulation_ensemble=\"input/ensemble.yaml\",\n",
    "    submission_command=\"qsub\",\n",
    ")\n",
    "\n",
    "# Define guest molecules (solutes) and their repsective coordinate file\n",
    "solutes = [\"CO2\", \"O2\", \"CH4\", \"N2\"]\n",
    "solutes_coord = [\n",
    "    \"/home/st/st_st/st_ac137577/workspace/DES_simulations/coordinates/co2.pdb\",\n",
    "    \"/home/st/st_st/st_ac137577/workspace/DES_simulations/coordinates/o2.gro\",\n",
    "    \"/home/st/st_st/st_ac137577/workspace/DES_simulations/coordinates/met.gro\",\n",
    "    \"/home/st/st_st/st_ac137577/workspace/DES_simulations/coordinates/n2.gro\",\n",
    "]\n",
    "\n",
    "# Provide the path to the system where the solutes will be added.\n",
    "initial_path = f\"{gromacs_setup.project_folder}/md_thermo/%s/copy_0/04_nvt/nvt.gro\"\n",
    "\n",
    "# Define the ensembles that should be simulated (definition what each ensemble means is provided in yaml file)\n",
    "ensembles = [\"em\", \"nvt\", \"npt_equilibration\", \"npt_production\"]\n",
    "\n",
    "# Define the simulation time per ensemble in nano seconds\n",
    "simulation_times = [10000, 2.0, 2.0, 10.0]\n",
    "\n",
    "# Provide kwargs that should be passed into the input template directly\n",
    "input_kwargs = {}\n",
    "\n",
    "# Define number of copies\n",
    "copies = 0\n",
    "\n",
    "# Define the starting number for the first ensemble ( 0{off_set}_ensemble )\n",
    "off_set = 0"
   ]
  },
  {
   "cell_type": "code",
   "execution_count": null,
   "metadata": {},
   "outputs": [],
   "source": [
    "# Ensure that all jobs for all solutes are submitted at once\n",
    "job_files = [[] for _ in gromacs_setup.system_setup[\"temperature\"]]\n",
    "\n",
    "for solute, solute_coord in zip(solutes, solutes_coord):\n",
    "    # Define simulation folder and insert guest molecule\n",
    "    sim_folder = f\"free_energy/{solute}/equilibration\"\n",
    "\n",
    "    initial_systems = []\n",
    "\n",
    "    for state in gromacs_setup.loop_through_states():\n",
    "    \n",
    "        # Define folder with defined state attributes\n",
    "        state_condition = gromacs_setup.define_state_cond(**state)\n",
    "\n",
    "        # Build system\n",
    "        build_folder = (\n",
    "            f\"{gromacs_setup.project_folder}/{sim_folder}/insert_solute/\"\n",
    "            f\"{state_condition}\"\n",
    "        )\n",
    "\n",
    "        # Insert solutes to system\n",
    "        initial_systems.append(\n",
    "            generate_initial_configuration(\n",
    "                destination_folder=build_folder,\n",
    "                build_template=gromacs_setup.system_setup[\"paths\"][\"build_template\"],\n",
    "                software=gromacs_setup.system_setup[\"software\"],\n",
    "                coordinate_paths=[solute_coord],\n",
    "                molecules_list=[{\"name\": solute, \"number\": 1, \"smiles\": \"\"}],\n",
    "                initial_system=initial_path % state_condition,\n",
    "                box={},\n",
    "                submission_command=gromacs_setup.submission_command,\n",
    "            )\n",
    "        )\n",
    "\n",
    "    # Add solute to system\n",
    "    gromacs_setup.system_molecules.append({\"name\": solute, \"number\": 1, \"smiles\": \"\"})\n",
    "\n",
    "    # Prepare simulation\n",
    "    gromacs_setup.prepare_simulation(\n",
    "        folder_name=sim_folder,\n",
    "        ensembles=ensembles,\n",
    "        simulation_times=simulation_times,\n",
    "        initial_systems=initial_systems,\n",
    "        input_kwargs=input_kwargs,\n",
    "        copies=copies,\n",
    "        off_set=off_set,\n",
    "    )\n",
    "\n",
    "    # Remove it again\n",
    "    gromacs_setup.system_molecules.pop()\n",
    "\n",
    "    for j, files in enumerate(gromacs_setup.job_files):\n",
    "        job_files[j].extend(files)\n",
    "\n",
    "gromacs_setup.job_files = job_files"
   ]
  },
  {
   "cell_type": "markdown",
   "metadata": {},
   "source": [
    "2) Submit jobs to cluster"
   ]
  },
  {
   "cell_type": "code",
   "execution_count": null,
   "metadata": {},
   "outputs": [],
   "source": [
    "# Submit the simulations\n",
    "gromacs_setup.submit_simulation()"
   ]
  },
  {
   "cell_type": "markdown",
   "metadata": {},
   "source": [
    "## Simulate solvation free energy using the decoupling method"
   ]
  },
  {
   "cell_type": "code",
   "execution_count": null,
   "metadata": {},
   "outputs": [],
   "source": [
    "# Define guest molecules (solutes)\n",
    "solutes = [\"CO2\", \"O2\", \"CH4\", \"N2\"]\n",
    "\n",
    "# Define the ensembles that should be simulated (definition what each ensemble means is provided in yaml file)\n",
    "ensembles = [\"em\", \"nvt\", \"npt_equilibration\", \"npt_production\"]\n",
    "\n",
    "# Define the simulation time per ensemble in nano seconds\n",
    "simulation_times = [10000, 2.0, 20.0, 50.0]\n",
    "\n",
    "# Define number of copies\n",
    "copies = 0\n",
    "\n",
    "# Define the starting number for the first ensemble ( 0{off_set}_ensemble )\n",
    "off_set = 0\n",
    "\n",
    "# Define free energy settings\n",
    "with open(\"input/free_energy.yaml\") as f:\n",
    "    free_energy = yaml.safe_load(f)\n",
    "\n",
    "free_energy[\"init_lambda_states\"] = \" \".join(\n",
    "    [f\"{x:5.2f}\" for x in free_energy[\"combined_lambdas\"]]\n",
    ")\n",
    "free_energy[\"vdw_lambdas\"] = \" \".join(\n",
    "    [f\"{max(x-1,0.0):5.2f}\" for x in free_energy[\"combined_lambdas\"]]\n",
    ")\n",
    "free_energy[\"coul_lambdas\"] = \" \".join(\n",
    "    [f\"{min(x,1.0):5.2f}\" for x in free_energy[\"combined_lambdas\"]]\n",
    ")\n",
    "\n",
    "# Ensure that all jobs for all solutes and all lambdas are submitted at once\n",
    "job_files = [[] for _ in gromacs_setup.system_setup[\"temperature\"]]\n",
    "\n",
    "for solute in solutes:\n",
    "    initial_systems = [\n",
    "        (\n",
    "            f\"{gromacs_setup.project_folder}/free_energy/{solute}/equilibration/\"\n",
    "            f\"{state_cond}/copy_0/03_npt_production/npt_production.gro\"\n",
    "        )\n",
    "        for state_cond in gromacs_setup.define_state_cond_list()\n",
    "    ]\n",
    "\n",
    "    free_energy[\"couple_moltype\"] = solute\n",
    "\n",
    "    # Add solute to system\n",
    "    gromacs_setup.system_molecules.append({\"name\": solute, \"number\": 1, \"smiles\": \"\"})\n",
    "\n",
    "    for i, _ in enumerate(free_energy[\"combined_lambdas\"]):\n",
    "        # Define simulation folder for each lambda\n",
    "        sim_folder = f\"free_energy/{solute}/coupling/lambda_{i}\"\n",
    "        free_energy[\"init_lambda_state\"] = i\n",
    "\n",
    "        gromacs_setup.prepare_simulation(\n",
    "            folder_name=sim_folder,\n",
    "            ensembles=ensembles,\n",
    "            simulation_times=simulation_times,\n",
    "            initial_systems=initial_systems,\n",
    "            input_kwargs={\"free_energy\": free_energy},\n",
    "            copies=copies,\n",
    "            off_set=off_set,\n",
    "        )\n",
    "\n",
    "        for j, files in enumerate(gromacs_setup.job_files):\n",
    "            job_files[j].extend(files)\n",
    "\n",
    "    # Remove it again\n",
    "    gromacs_setup.system_molecules.pop()\n",
    "\n",
    "gromacs_setup.job_files = job_files"
   ]
  },
  {
   "cell_type": "markdown",
   "metadata": {},
   "source": [
    "2) Submit jobs to cluster"
   ]
  },
  {
   "cell_type": "code",
   "execution_count": null,
   "metadata": {},
   "outputs": [],
   "source": [
    "# Submit the simulations\n",
    "gromacs_setup.submit_simulation()"
   ]
  },
  {
   "cell_type": "markdown",
   "metadata": {},
   "source": [
    "## Analyse the solvation free energy"
   ]
  },
  {
   "cell_type": "code",
   "execution_count": null,
   "metadata": {},
   "outputs": [],
   "source": [
    "# Define guest molecules (solutes)\n",
    "solutes = [\"CO2\", \"O2\", \"CH4\", \"N2\"]\n",
    "\n",
    "# Define analysis ensemble\n",
    "ensemble = \"03_npt_production\"\n",
    "\n",
    "# Percentage to discard from beginning of the simulation\n",
    "time_fraction = 0.0\n",
    "\n",
    "# Free energy method\n",
    "method = \"MBAR\"\n",
    "\n",
    "# If free energy outputs should be decorrelated (recommended)\n",
    "decorrelate = True\n",
    "\n",
    "# Whether coupling or decoupling simulations were performed\n",
    "coupling = False\n"
   ]
  },
  {
   "cell_type": "code",
   "execution_count": null,
   "metadata": {},
   "outputs": [],
   "source": [
    "for solute in solutes:\n",
    "    \n",
    "    print(f\"\\nAnalysis for solute: {solute}\")\n",
    "    \n",
    "    # Define simulation folder and insert guest molecule'\n",
    "    analysis_folder = f\"free_energy/{solute}/coupling\"\n",
    "\n",
    "    # Analyse free solvation energy\n",
    "    gromacs_setup.analysis_solvation_free_energy(\n",
    "        analysis_folder=analysis_folder,\n",
    "        ensemble=ensemble,\n",
    "        method=method,\n",
    "        time_fraction=time_fraction,\n",
    "        decorrelate=decorrelate,\n",
    "        coupling=coupling,\n",
    "    )"
   ]
  }
 ],
 "metadata": {
  "kernelspec": {
   "display_name": "mdsetup",
   "language": "python",
   "name": "python3"
  },
  "language_info": {
   "codemirror_mode": {
    "name": "ipython",
    "version": 3
   },
   "file_extension": ".py",
   "mimetype": "text/x-python",
   "name": "python",
   "nbconvert_exporter": "python",
   "pygments_lexer": "ipython3",
   "version": "3.11.9"
  }
 },
 "nbformat": 4,
 "nbformat_minor": 2
}
