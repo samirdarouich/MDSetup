{
 "cells": [
  {
   "cell_type": "code",
   "execution_count": 8,
   "metadata": {},
   "outputs": [],
   "source": [
    "import os\n",
    "from pyLAMMPS import LAMMPS_input, get_molecule_coordinates"
   ]
  },
  {
   "cell_type": "markdown",
   "metadata": {},
   "source": [
    "# pyLAMMPS\n",
    "\n",
    "This module enables users to perform molecular dynamics simulations utilizing LAMMPS with the any force field provided as toml file. The process begins with a SMILES and graph representation of each component, where PLAYMOL constructs initial systems at specific densities. The moleculegraph software and supplementary Python code are then used to generate a LAMMPS data and input file via jinja2 templates.'"
   ]
  },
  {
   "cell_type": "markdown",
   "metadata": {},
   "source": [
    "The following example will demonstrate how to setup MD simulations (this is also demonstrated in the example.ipynb). Essentially, the workflow can be summarized as follows:\n",
    "1. Get intial molecule coordinates using SMILES and PubChem and provide a graph representation.\n",
    "2. Use PLAYMOL to construct a system of any mixture.\n",
    "3. Use the moleculegraph software and pyLAMMPS tools to generate LAMMPS data and input files via jinja2 templates."
   ]
  },
  {
   "cell_type": "markdown",
   "metadata": {},
   "source": [
    "## 1. Define general settings ##\n",
    "\n",
    "1. Define path to force field toml (in a moleculegraph understandable format),\n",
    "2. Define name, SMILES, and graph strings of the molecules under investigation.\n",
    "3. Call the pyLAMMPS LAMMPS_input class"
   ]
  },
  {
   "cell_type": "code",
   "execution_count": 9,
   "metadata": {},
   "outputs": [
    {
     "name": "stdout",
     "output_type": "stream",
     "text": [
      "\n",
      "\n",
      "WARNING:\n",
      "    Assign_coos_via_distance_mat is not mature yet.\n",
      "    Double-check your results!!! \n",
      " \n",
      "\n"
     ]
    }
   ],
   "source": [
    "# 1: Path tho force field toml\n",
    "force_field_path     = \"force-fields/forcefield_UA_TAMie_alkanes.toml\"\n",
    "\n",
    "# 2: Names, SMILES, and graphs of molecules (further examples on constructing molecule graphs available at https://github.com/maxfleck/moleculegraph)\n",
    "\n",
    "system_name          = \"pure_hexane\"\n",
    "\n",
    "molecule_name1       = \"hexane\"\n",
    "molecule_graph1      = \"[CH3_alkane][CH2_alkane][CH2_alkane][CH2_alkane][CH2_alkane][CH3_alkane]\"\n",
    "molecule_smiles1     = \"CCCCCC\"\n",
    "\n",
    "molecule_name_list   = [ molecule_name1 ]\n",
    "molecule_graph_list  = [ molecule_graph1 ]\n",
    "molecule_smiles_list = [ molecule_smiles1 ]\n",
    "\n",
    "# Path to working folder\n",
    "working_folder       = f\"example/{system_name}\"\n",
    "\n",
    "# Path to xyz template\n",
    "template_xyz         = \"templates/template_write_xyz.xyz\"\n",
    "\n",
    "# Define output path for final xyz files\n",
    "xyz_destinations     = [ f\"{working_folder}/%s.xyz\"%name for name in molecule_name_list ]\n",
    "\n",
    "# Get the single molecule coordinates for each component\n",
    "get_molecule_coordinates( molecule_name_list = molecule_name_list, molecule_graph_list = molecule_graph_list, molecule_smiles_list = molecule_smiles_list,\n",
    "                          xyz_destinations = xyz_destinations, template_xyz = template_xyz, verbose = False )\n",
    "\n",
    "\n",
    "# 3: Call the LAMMPS input class\n",
    "LAMMPS_class        = LAMMPS_input( mol_str = molecule_graph_list, ff_path = force_field_path )"
   ]
  },
  {
   "cell_type": "markdown",
   "metadata": {},
   "source": [
    "## 2. Write system size independent files ##\n",
    "\n",
    "1. The PLAYMOL force field file, which is used to build the initial configurations"
   ]
  },
  {
   "cell_type": "code",
   "execution_count": 10,
   "metadata": {},
   "outputs": [],
   "source": [
    "# 1: PLAYMOL force field file\n",
    "playmol_force_field_template    = \"templates/template_playmol_forcefield.playmol\"\n",
    "playmol_force_field_destination = f\"{working_folder}/playmol_ff.playmol\"\n",
    "\n",
    "LAMMPS_class.prepare_playmol_input( playmol_template = playmol_force_field_template, playmol_ff_path = playmol_force_field_destination )"
   ]
  },
  {
   "cell_type": "markdown",
   "metadata": {},
   "source": [
    "## 3. Write system size dependent files ##\n",
    "\n",
    "1. Define general (thermodynamic) settings for each system.\n",
    "2. Write PLAYMOL input file and execute it to build the system (if wanted).\n",
    "3. Write LAMMPS data file using the from PLAYMOL generated xyz file\n",
    "4. Write LAMMPS input file for each system"
   ]
  },
  {
   "cell_type": "code",
   "execution_count": 11,
   "metadata": {},
   "outputs": [
    {
     "name": "stdout",
     "output_type": "stream",
     "text": [
      "Playmol (Version: 04 Mar 2021)\n",
      "Reading file pure_hexane_0.mol...\n",
      "Adding variable rho with parameters 0.48160000000000003\n",
      "Adding variable seed with parameters 277969\n",
      "Including file ../playmol_ff.playmol\n",
      "Adding atom type CH3_alkane with parameters mie/cut 0.2709 3.6034 14.0 6.0\n",
      "Adding diameter CH3_alkane with parameters 3.6034\n",
      "Adding mass CH3_alkane with parameters 15.035\n",
      "Adding charge CH3_alkane with parameters 0.0\n",
      "Adding atom type CH2_alkane with parameters mie/cut 0.1051 4.04 14.0 6.0\n",
      "Adding diameter CH2_alkane with parameters 4.04\n",
      "Adding mass CH2_alkane with parameters 14.027\n",
      "Adding charge CH2_alkane with parameters 0.0\n",
      "Adding bond type CH2_alkane CH3_alkane with parameters harmonic 200.0 1.74\n",
      "Adding bond type CH2_alkane CH2_alkane with parameters harmonic 200.0 1.54\n",
      "Adding angle type CH2_alkane CH2_alkane CH3_alkane with parameters harmonic 62.1001 114.0\n",
      "Adding angle type CH2_alkane CH2_alkane CH2_alkane with parameters harmonic 62.1001 114.0\n",
      "Adding dihedral type CH2_alkane CH2_alkane CH2_alkane CH3_alkane with parameters opls 0.0 1.411 -0.271 3.145\n",
      "Adding dihedral type CH2_alkane CH2_alkane CH2_alkane CH2_alkane with parameters opls 0.0 1.411 -0.271 3.145\n",
      "Adding atom CH3_alkane1 with parameters CH3_alkane\n",
      "Adding charge CH3_alkane1 with parameters 0.0\n",
      "Adding molecule CH3_alkane1 with parameters 1\n",
      "Adding atom CH2_alkane2 with parameters CH2_alkane\n",
      "Adding charge CH2_alkane2 with parameters 0.0\n",
      "Adding molecule CH2_alkane2 with parameters 2\n",
      "Adding atom CH2_alkane3 with parameters CH2_alkane\n",
      "Adding charge CH2_alkane3 with parameters 0.0\n",
      "Adding molecule CH2_alkane3 with parameters 3\n",
      "Adding atom CH2_alkane4 with parameters CH2_alkane\n",
      "Adding charge CH2_alkane4 with parameters 0.0\n",
      "Adding molecule CH2_alkane4 with parameters 4\n",
      "Adding atom CH2_alkane5 with parameters CH2_alkane\n",
      "Adding charge CH2_alkane5 with parameters 0.0\n",
      "Adding molecule CH2_alkane5 with parameters 5\n",
      "Adding atom CH3_alkane6 with parameters CH3_alkane\n",
      "Adding charge CH3_alkane6 with parameters 0.0\n",
      "Adding molecule CH3_alkane6 with parameters 6\n",
      "Adding bond CH3_alkane1 CH2_alkane2\n",
      "Fusing molecule 2 to molecule 1\n",
      "Lowering indices of molecules 3 to 6\n",
      "Adding bond CH2_alkane2 CH2_alkane3\n",
      "Fusing molecule 2 to molecule 1\n",
      "Lowering indices of molecules 3 to 5\n",
      "Adding bond CH2_alkane3 CH2_alkane4\n",
      "Fusing molecule 2 to molecule 1\n",
      "Lowering indices of molecules 3 to 4\n",
      "Adding bond CH2_alkane4 CH2_alkane5\n",
      "Fusing molecule 2 to molecule 1\n",
      "Lowering indices of molecules 3 to 3\n",
      "Adding bond CH2_alkane5 CH3_alkane6\n",
      "Fusing molecule 2 to molecule 1\n",
      "Reading geometric data from file ../hexane.xyz...\n",
      "Number of data to be read: 6\n",
      "1 : CH3_alkane1 3.1709 0.2369 -0.0001\n",
      "2 : CH2_alkane2 1.8649 -0.5413 -0.0114\n",
      "3 : CH2_alkane3 0.6558 0.3935 0.0001\n",
      "4 : CH2_alkane4 -0.6558 -0.3932 0.0227\n",
      "5 : CH2_alkane5 -1.865 0.5414 0.0001\n",
      "6 : CH3_alkane6 -3.1709 -0.2372 -0.0115\n",
      "Number of provided geometric data: 6\n",
      "Processing 6 geometric data for molecule 1:\n",
      "Data provided for atom CH3_alkane1 : 3.1709 0.2369 -0.0001\n",
      "Data provided for atom CH2_alkane2 : 1.8649 -0.5413 -0.0114\n",
      "Data provided for atom CH2_alkane3 : 0.6558 0.3935 0.0001\n",
      "Data provided for atom CH2_alkane4 : -0.6558 -0.3932 0.0227\n",
      "Data provided for atom CH2_alkane5 : -1.865 0.5414 0.0001\n",
      "Data provided for atom CH3_alkane6 : -3.1709 -0.2372 -0.0115\n",
      "Adding coordinate CH3_alkane1 with parameters 3.17090011 0.236900002 -9.99999975E-05\n",
      "Adding coordinate CH2_alkane2 with parameters 1.86489999 -0.541299999 -1.14000002E-02\n",
      "Adding coordinate CH2_alkane3 with parameters 0.655799985 0.393500000 9.99999975E-05\n",
      "Adding coordinate CH2_alkane4 with parameters -0.655799985 -0.393200010 2.27000006E-02\n",
      "Adding coordinate CH2_alkane5 with parameters -1.86500001 0.541400015 9.99999975E-05\n",
      "Adding coordinate CH3_alkane6 with parameters -3.17090011 -0.237200007 -1.15000000E-02\n",
      "Defining box density as 0.290026248\n",
      "Setting packmol seed to 277969\n",
      "Setting packmol retry parameter to 0.95\n",
      "Adding packmol option pack with parameters mol(CH3_alkane1) 500\n",
      "Packmol invoked with action <execute>\n",
      "Box lengths are 52.9634628 52.9634628 52.9634628\n",
      "Executing Packmol with scaling factor 1.00000000. Please wait...\n",
      "Packmol converged with scaling factor 1.00000000\n",
      "Writing data to file pure_hexane_0.xyz in xyz format...\n",
      "Writing data to file pure_hexane_0.log in summary format...\n",
      "0\n",
      "\n",
      "DONE: ~/.local/bin/playmol -i pure_hexane_0.mol\n",
      "\n"
     ]
    }
   ],
   "source": [
    "# 1: Define general settings for each system\n",
    "# Temperatures [K], pressures [bar] (if wanted, otherwise use 0.0) and initial denisties [kg/m^3] for each system. Also define the number of molecules per component.\n",
    "\n",
    "temperatures     = [ 450.0 ]\n",
    "pressures        = [ 13.1 ]\n",
    "densities        = [ 481.60 ]\n",
    "molecule_numbers = [ 500 ]\n",
    "\n",
    "# Simulation path\n",
    "simulation_path  = f\"{working_folder}/sim_%d\"\n",
    "\n",
    "# Define if PLAYMOL should be executed and further settings\n",
    "build_playmol             = True\n",
    "molecule_xyz_files        = [ \"../%s.xyz\"%name for name in molecule_name_list ]\n",
    "relative_playmol_ff_path  = \"../playmol_ff.playmol\"\n",
    "playmol_input_template    = \"templates/template_playmol_input.mol\"\n",
    "\n",
    "# Define LAMMPS template paths\n",
    "LAMMPS_data_template      = \"templates/template_lammps_data.data\"\n",
    "LAMMPS_input_template     = \"templates/template_lammps_input.in\"\n",
    "\n",
    "for i, (temp, press, dens) in enumerate( zip( temperatures, pressures, densities ) ):\n",
    "\n",
    "    # Create the simulation folder (if not already done)\n",
    "    os.makedirs( simulation_path%i, exist_ok = True )\n",
    "\n",
    "    # Prepare LAMMPS with molecules numbers and density of the system\n",
    "    LAMMPS_class.prepare_lammps_data (nmol_list = molecule_numbers, densitiy = dens )\n",
    "\n",
    "    # 2: Write PLAYMOL input and execute (if wanted.)\n",
    "    if build_playmol:\n",
    "        playmol_input_destination = simulation_path%i + f\"/{system_name}_{i}.mol\"\n",
    "        \n",
    "        LAMMPS_class.write_playmol_input( playmol_template = playmol_input_template, playmol_path = playmol_input_destination, \n",
    "                                          playmol_ff_path = relative_playmol_ff_path, xyz_paths = molecule_xyz_files )\n",
    "\n",
    "    # 3: Write LAMMPS data file from generated xyz file\n",
    "    system_xyz              = simulation_path%i + f\"/{system_name}_{i}.xyz\"\n",
    "    LAMMPS_data_destination = simulation_path%i + \"/lammps.data\"\n",
    "\n",
    "    LAMMPS_class.write_lammps_data( xyz_path = system_xyz, data_template = LAMMPS_data_template, data_path = LAMMPS_data_destination )\n",
    "\n",
    "    # 4: Write LAMMPS input file\n",
    "    LAMMPS_input_destination  = simulation_path%i + \"/lammps.input\"\n",
    "    relative_LAMMPS_data_path = LAMMPS_data_destination[ LAMMPS_data_destination.rfind(simulation_path%i) + len(simulation_path%i) + 1 : ]\n",
    "   \n",
    "    LAMMPS_class.prepare_lammps_input( pair_style = \"hybrid/overlay mie/cut 14\", mixing_rule = \"arithmetic\", sb_dict = {\"vdw\":[0,0,0],\"coulomb\":[0,0,0]} )\n",
    "    LAMMPS_class.write_lammps_input( input_path = LAMMPS_input_destination, template_path = LAMMPS_input_template, data_file = relative_LAMMPS_data_path,\n",
    "                                     temperature = temp, pressure = press, equilibration_time = 4e6, production_time = 2e6 )"
   ]
  }
 ],
 "metadata": {
  "kernelspec": {
   "display_name": "base",
   "language": "python",
   "name": "python3"
  },
  "language_info": {
   "codemirror_mode": {
    "name": "ipython",
    "version": 3
   },
   "file_extension": ".py",
   "mimetype": "text/x-python",
   "name": "python",
   "nbconvert_exporter": "python",
   "pygments_lexer": "ipython3",
   "version": "3.10.11"
  }
 },
 "nbformat": 4,
 "nbformat_minor": 2
}
