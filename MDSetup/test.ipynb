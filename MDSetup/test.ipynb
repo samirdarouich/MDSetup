{
 "cells": [
  {
   "cell_type": "code",
   "execution_count": null,
   "metadata": {},
   "outputs": [],
   "source": [
    "\n",
    "## to do: \n",
    "# smiles and FF matching --> topologie für die atom types\n",
    "# lammps building template\n"
   ]
  },
  {
   "cell_type": "code",
   "execution_count": null,
   "metadata": {},
   "outputs": [],
   "source": []
  },
  {
   "cell_type": "code",
   "execution_count": 16,
   "metadata": {},
   "outputs": [
    {
     "name": "stdout",
     "output_type": "stream",
     "text": [
      "Force field provided for software 'LAMMPS'\n"
     ]
    }
   ],
   "source": [
    "\n",
    "# smiles = [ \"CCCC\", \"CCCCCC\" ]\n",
    "# force_field_paths = [ \"/Users/samir/Documents/Coding_libaries/pyLMP/force-fields/forcefield_UA_TAMie_alkanes.toml\" ]\n",
    "\n",
    "# ff = forcefield( smiles = smiles, force_field_paths = force_field_paths )\n",
    "\n",
    "# residues = [\"butane\",\"hexane\"]\n",
    "\n",
    "\n",
    "# files_suffix = \"mol\"\n",
    "\n",
    "# template = \"/Users/samir/Documents/Coding_libaries/pyLMP/templates/lammps/template_lammps.mol\"\n",
    "\n",
    "# #ff.write_molecule_files( template, \".\", residues, files_suffix, **kwargs )\n"
   ]
  }
 ],
 "metadata": {
  "kernelspec": {
   "display_name": "py312",
   "language": "python",
   "name": "python3"
  },
  "language_info": {
   "codemirror_mode": {
    "name": "ipython",
    "version": 3
   },
   "file_extension": ".py",
   "mimetype": "text/x-python",
   "name": "python",
   "nbconvert_exporter": "python",
   "pygments_lexer": "ipython3",
   "version": "3.12.2"
  }
 },
 "nbformat": 4,
 "nbformat_minor": 2
}
