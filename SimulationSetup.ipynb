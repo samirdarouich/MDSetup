{
 "cells": [
  {
   "cell_type": "code",
   "execution_count": 1,
   "metadata": {},
   "outputs": [],
   "source": [
    "from pyLAMMPS import LAMMPS_setup"
   ]
  },
  {
   "cell_type": "markdown",
   "metadata": {},
   "source": [
    "# pyLAMMPS\n",
    "\n",
    "This module enables users to perform molecular dynamics simulations utilizing LAMMPS with the any force field provided as toml/json file. \n",
    "There is the possiblity do provide data and LAMMPS compatible parameter files, or to build a system and write all necessary input using pyLAMMPS, PLAYMOL, and moleculegraph.\n",
    "\n",
    "1) Read in the YAML files to define the system and simulation/sampling settings."
   ]
  },
  {
   "cell_type": "code",
   "execution_count": 2,
   "metadata": {},
   "outputs": [],
   "source": [
    "lammps_setup = LAMMPS_setup( system_setup = \"input/setup.yaml\", \n",
    "                             simulation_default = \"input/defaults.yaml\",\n",
    "                             simulation_ensemble = \"input/ensemble.yaml\",\n",
    "                             simulation_sampling = \"input/sampling.yaml\",\n",
    "                             submission_command = \"qsub\"\n",
    "                            )"
   ]
  },
  {
   "cell_type": "markdown",
   "metadata": {},
   "source": [
    "## Setting up a simulation pipeline\n",
    "\n",
    "In this section the possibility to setup a simulation folder, along with a simulation pipeline using several ensembles, is provided.\n",
    "\n",
    "1) Setup simulation and build initial system (if not provided)\n"
   ]
  },
  {
   "cell_type": "code",
   "execution_count": 4,
   "metadata": {},
   "outputs": [
    {
     "name": "stdout",
     "output_type": "stream",
     "text": [
      "\n",
      "Intial system provided for at: /home/st/st_st/st_ac137577/workspace/software/pyLAMMPS/example/butane_hexane/md_thermo/temp_343_pres_4/build/system.data\n",
      "\n"
     ]
    }
   ],
   "source": [
    "# Define the simulation folder\n",
    "simulation_folder = \"md_thermo\"\n",
    "\n",
    "# Define the ensembles that should be simulated (definition what each ensemble means is provided in yaml file)\n",
    "ensembles = [ \"em\", \"npt\" ] \n",
    "\n",
    "# Define the simulation time per ensemble in nano seconds (for em the number of iterations is provided in the ensemble yaml)\n",
    "simulation_times = [ 0, 10.0 ]\n",
    "\n",
    "# Define initial systems, in case the simulation should be continued from a prior simulation.\n",
    "# In that case, provide one initial structure for each temperature & pressure state.\n",
    "# If the simulation should start from an initial configuration, provide an empty list.\n",
    "initial_systems = [ \"/home/st/st_st/st_ac137577/workspace/software/pyLAMMPS/example/butane_hexane/md_thermo/temp_343_pres_4/build/system.data\" ]\n",
    "\n",
    "# Define if there is already a force field file\n",
    "ff_file = \"\"\n",
    "\n",
    "# Provide kwargs that should be passed into the input template directly\n",
    "input_kwargs = {  }\n",
    "\n",
    "# Define number of copies\n",
    "copies = 2\n",
    "\n",
    "# Define if the inital system should build locally or with the cluster\n",
    "on_cluster = False\n",
    "\n",
    "# Define the starting number for the first ensemble ( 0{off_set}_ensemble )\n",
    "off_set    = 0\n",
    "\n",
    "lammps_setup.prepare_simulation( folder_name = simulation_folder, ensembles = ensembles, simulation_times = simulation_times,\n",
    "                                 initial_systems = initial_systems, input_kwargs = input_kwargs, copies = copies,\n",
    "                                 ff_file = ff_file, on_cluster = on_cluster,  off_set = off_set )"
   ]
  },
  {
   "cell_type": "markdown",
   "metadata": {},
   "source": [
    "2) Submit jobs to cluster"
   ]
  },
  {
   "cell_type": "code",
   "execution_count": 5,
   "metadata": {},
   "outputs": [
    {
     "name": "stdout",
     "output_type": "stream",
     "text": [
      "\n",
      "Submitting simulations at Temperature = 343 K, Pressure = 4 bar\n",
      "\n",
      "Submitting job: /home/st/st_st/st_ac137577/workspace/software/pyLAMMPS/example/butane_hexane/md_thermo/temp_343_pres_4/copy_0/job_343_4.sh\n",
      "11355784\n",
      "\n",
      "\n",
      "Submitting job: /home/st/st_st/st_ac137577/workspace/software/pyLAMMPS/example/butane_hexane/md_thermo/temp_343_pres_4/copy_1/job_343_4.sh\n",
      "11355785\n",
      "\n",
      "\n",
      "Submitting job: /home/st/st_st/st_ac137577/workspace/software/pyLAMMPS/example/butane_hexane/md_thermo/temp_343_pres_4/copy_2/job_343_4.sh\n",
      "11355786\n",
      "\n",
      "\n"
     ]
    }
   ],
   "source": [
    "# Submit the simulations\n",
    "lammps_setup.submit_simulation()"
   ]
  }
 ],
 "metadata": {
  "kernelspec": {
   "display_name": "base",
   "language": "python",
   "name": "python3"
  },
  "language_info": {
   "codemirror_mode": {
    "name": "ipython",
    "version": 3
   },
   "file_extension": ".py",
   "mimetype": "text/x-python",
   "name": "python",
   "nbconvert_exporter": "python",
   "pygments_lexer": "ipython3",
   "version": "3.11.8"
  }
 },
 "nbformat": 4,
 "nbformat_minor": 2
}
