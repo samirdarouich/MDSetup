{
 "cells": [
  {
   "cell_type": "code",
   "execution_count": 1,
   "metadata": {},
   "outputs": [],
   "source": [
    "\n",
    "## to do: \n",
    "# lammps building template\n",
    "from MDSetup.forcefield import forcefield\n",
    "\n"
   ]
  },
  {
   "cell_type": "code",
   "execution_count": null,
   "metadata": {},
   "outputs": [],
   "source": [
    "# check ethane\n",
    "# Introduce check if force field keys are there before making it unique!"
   ]
  },
  {
   "cell_type": "code",
   "execution_count": 21,
   "metadata": {},
   "outputs": [
    {
     "name": "stdout",
     "output_type": "stream",
     "text": [
      "Force field provided for software 'LAMMPS'\n",
      "\n",
      "Matching atoms to force field for SMILES: CCCC\n",
      "\n",
      "Matched atom C n° 0 with force field key: CH3_alkane\n",
      "Matched atom C n° 1 with force field key: CH2_alkane\n",
      "Matched atom C n° 2 with force field key: CH2_alkane\n",
      "Matched atom C n° 3 with force field key: CH3_alkane\n",
      "Matched atom H n° 4 with force field key: carbon_h\n",
      "Matched atom H n° 5 with force field key: carbon_h\n",
      "Matched atom H n° 6 with force field key: carbon_h\n",
      "Matched atom H n° 7 with force field key: carbon_h\n",
      "Matched atom H n° 8 with force field key: carbon_h\n",
      "Matched atom H n° 9 with force field key: carbon_h\n",
      "Matched atom H n° 10 with force field key: carbon_h\n",
      "Matched atom H n° 11 with force field key: carbon_h\n",
      "Matched atom H n° 12 with force field key: carbon_h\n",
      "Matched atom H n° 13 with force field key: carbon_h\n",
      "\n",
      "Final molecule\n",
      "\n",
      "C n°0: CH3_alkane\n",
      "C n°1: CH2_alkane\n",
      "C n°2: CH2_alkane\n",
      "C n°3: CH3_alkane\n",
      "\n",
      "Matching atoms to force field for SMILES: CCCCCC\n",
      "\n",
      "Matched atom C n° 0 with force field key: CH3_alkane\n",
      "Matched atom C n° 1 with force field key: CH2_alkane\n",
      "Matched atom C n° 2 with force field key: CH2_alkane\n",
      "Matched atom C n° 3 with force field key: CH2_alkane\n",
      "Matched atom C n° 4 with force field key: CH2_alkane\n",
      "Matched atom C n° 5 with force field key: CH3_alkane\n",
      "Matched atom H n° 6 with force field key: carbon_h\n",
      "Matched atom H n° 7 with force field key: carbon_h\n",
      "Matched atom H n° 8 with force field key: carbon_h\n",
      "Matched atom H n° 9 with force field key: carbon_h\n",
      "Matched atom H n° 10 with force field key: carbon_h\n",
      "Matched atom H n° 11 with force field key: carbon_h\n",
      "Matched atom H n° 12 with force field key: carbon_h\n",
      "Matched atom H n° 13 with force field key: carbon_h\n",
      "Matched atom H n° 14 with force field key: carbon_h\n",
      "Matched atom H n° 15 with force field key: carbon_h\n",
      "Matched atom H n° 16 with force field key: carbon_h\n",
      "Matched atom H n° 17 with force field key: carbon_h\n",
      "Matched atom H n° 18 with force field key: carbon_h\n",
      "Matched atom H n° 19 with force field key: carbon_h\n",
      "\n",
      "Final molecule\n",
      "\n",
      "C n°0: CH3_alkane\n",
      "C n°1: CH2_alkane\n",
      "C n°2: CH2_alkane\n",
      "C n°3: CH2_alkane\n",
      "C n°4: CH2_alkane\n",
      "C n°5: CH3_alkane\n"
     ]
    }
   ],
   "source": [
    "\n",
    "smiles = [ \"CCCC\", \"CCCCCC\" ]\n",
    "force_field_paths = [ \"/home/st/st_st/st_ac137577/workspace/software/MDSetup/force-fields/forcefield_UA_TAMie_alkanes.toml\" ]\n",
    "\n",
    "ff = forcefield( smiles = smiles, force_field_paths = force_field_paths, verbose=True )\n",
    "\n",
    "# residues = [\"butane\",\"hexane\"]\n",
    "\n",
    "# files_suffix = \"mol\"\n",
    "\n",
    "# template = \"/Users/samir/Documents/Coding_libaries/pyLMP/templates/lammps/template_lammps.mol\"\n",
    "\n",
    "# #ff.write_molecule_files( template, \".\", residues, files_suffix, **kwargs )\n"
   ]
  },
  {
   "cell_type": "code",
   "execution_count": 21,
   "metadata": {},
   "outputs": [],
   "source": [
    "from jinja2 import Template"
   ]
  },
  {
   "cell_type": "code",
   "execution_count": 9,
   "metadata": {},
   "outputs": [],
   "source": []
  },
  {
   "cell_type": "code",
   "execution_count": 2,
   "metadata": {},
   "outputs": [],
   "source": [
    "from typing import List, Dict\n",
    "import numpy as np\n"
   ]
  },
  {
   "cell_type": "code",
   "execution_count": 18,
   "metadata": {},
   "outputs": [],
   "source": []
  },
  {
   "cell_type": "code",
   "execution_count": 27,
   "metadata": {},
   "outputs": [],
   "source": [
    "mol_files = [ \"/home/st/st_st/st_ac137577/workspace/test/hexane.mol\", \"/home/st/st_st/st_ac137577/workspace/test/butane.mol\" ]\n",
    "\n",
    "types_no = extract_number_dict_from_mol_files( mol_files )"
   ]
  },
  {
   "cell_type": "code",
   "execution_count": 28,
   "metadata": {},
   "outputs": [
    {
     "data": {
      "text/plain": [
       "{'atoms': 2, 'bonds': 2, 'angles': 2, 'dihedrals': 3}"
      ]
     },
     "execution_count": 28,
     "metadata": {},
     "output_type": "execute_result"
    }
   ],
   "source": [
    "types_no"
   ]
  },
  {
   "cell_type": "code",
   "execution_count": 35,
   "metadata": {},
   "outputs": [],
   "source": [
    "# [\"water\",10,mol_files[0] ], \n",
    "coord_mol_no = [ [mol_files[0],\"hexane\",15, ], [mol_files[1],\"butane\",4] ]\n",
    "\n",
    "destination = \"/home/st/st_st/st_ac137577/workspace/test/build\"\n",
    "\n",
    "temp_path = \"/home/st/st_st/st_ac137577/workspace/software/MDSetup/templates/lammps/template_lammps.build\"\n",
    "with open( temp_path ) as f:\n",
    "    template = Template( f.read() )\n",
    "\n",
    "rendered = template.render( box = {\"box_type\": \"prism\", \"dimensions\": {\"x\":[-10,10], \"y\":[-10,10], \"z\":[-10,10], \"xy\": [0], \"xz\": [0], \"yz\": [0]} }, types_no=types_no, force_field_file=\"../force_field.params\", output_coord=\"test.data\",\n",
    "                            coord_mol_no = coord_mol_no, n_try = 10 )\n",
    "\n",
    "build_file = f\"{destination}/build.in\"\n",
    "\n",
    "with open( build_file, \"w\" ) as f:\n",
    "    f.write(rendered)"
   ]
  }
 ],
 "metadata": {
  "kernelspec": {
   "display_name": "py312",
   "language": "python",
   "name": "python3"
  },
  "language_info": {
   "codemirror_mode": {
    "name": "ipython",
    "version": 3
   },
   "file_extension": ".py",
   "mimetype": "text/x-python",
   "name": "python",
   "nbconvert_exporter": "python",
   "pygments_lexer": "ipython3",
   "version": "3.11.9"
  }
 },
 "nbformat": 4,
 "nbformat_minor": 2
}
