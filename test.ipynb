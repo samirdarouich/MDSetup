{
 "cells": [
  {
   "cell_type": "code",
   "execution_count": null,
   "metadata": {},
   "outputs": [],
   "source": [
    "\n",
    "## to do: \n",
    "# smiles and FF matching --> topologie für die atom types\n",
    "# lammps building template\n"
   ]
  },
  {
   "cell_type": "code",
   "execution_count": 53,
   "metadata": {},
   "outputs": [],
   "source": [
    "import pandas as pd\n",
    "import moleculegraph\n",
    "from typing import Dict, List\n",
    "from MDSetup.forcefield.molecule import moleculegraph_syntax, get_mollist_from_smiles, clean_mollist, get_mol_from_bond_list, adjust_bond_list_indexes"
   ]
  },
  {
   "cell_type": "code",
   "execution_count": 12,
   "metadata": {},
   "outputs": [],
   "source": [
    "smiles = \"CCCC\" \n",
    "\n",
    "atom_names, atoms_xyz, bond_list = get_mollist_from_smiles(smiles)\n",
    "\n",
    "# if len(atom_names) > forcefieldtypes:\n",
    "#     UA_filter = {\"C\", \"H\"}\n",
    "# else:\n",
    "#     UA_filter = {}\n",
    "\n",
    "# cleaned_atomtypes, cleaned_coordinates, cleaned_bond_list = clean_mollist(\n",
    "#     atom_names, atoms_xyz, bond_list, UA_filter\n",
    "# )\n",
    "\n",
    "\n",
    "ff_depth = 2"
   ]
  },
  {
   "cell_type": "code",
   "execution_count": 1,
   "metadata": {},
   "outputs": [],
   "source": [
    "from rdkit import Chem"
   ]
  },
  {
   "cell_type": "code",
   "execution_count": 53,
   "metadata": {},
   "outputs": [],
   "source": [
    "topologies = { \"CH3\": Chem.MolFromSmarts(\"[CH3][CH2]\") }"
   ]
  },
  {
   "cell_type": "code",
   "execution_count": 76,
   "metadata": {},
   "outputs": [],
   "source": [
    "from rdkit.Chem import AllChem\n",
    "import numpy as np\n",
    "\n"
   ]
  },
  {
   "cell_type": "code",
   "execution_count": 79,
   "metadata": {},
   "outputs": [
    {
     "name": "stdout",
     "output_type": "stream",
     "text": [
      "Matched atom C n° 0 with force field key: CH3_alk\n",
      "Matched atom C n° 1 with force field key: CH2_alk\n",
      "Matched atom C n° 2 with force field key: CH2_alk\n",
      "Matched atom O n° 3 with force field key: OH_alc\n",
      "Matched atom H n° 4 with force field key: cH_alk\n",
      "Matched atom H n° 5 with force field key: cH_alk\n",
      "Matched atom H n° 6 with force field key: cH_alk\n",
      "Matched atom H n° 7 with force field key: cH_alk\n",
      "Matched atom H n° 8 with force field key: cH_alk\n",
      "Matched atom H n° 9 with force field key: cH_alk\n",
      "Matched atom H n° 10 with force field key: cH_alk\n",
      "Matched atom H n° 11 with force field key: cH_alc\n"
     ]
    },
    {
     "data": {
      "text/plain": [
       "(array(['C', 'C', 'C', 'O', 'H'], dtype='<U1'),\n",
       " array(['CH3_alk', 'CH2_alk', 'CH2_alk', 'OH_alc', 'cH_alc'], dtype='<U7'))"
      ]
     },
     "execution_count": 79,
     "metadata": {},
     "output_type": "execute_result"
    }
   ],
   "source": [
    "an, at, ax, bl = get_forcefield_molecule_from_smiles( \"CCCO\", {\"CH3_alk\":'[CH3]', \"CH2_alk\":'[CH2]', \"CH2_alc\":'[CH2][O]', \"OH_alc\":'[O]', \"cH_alc\": '[H][O]', \"cH_alk\": '[H][C]'}, True, True)\n",
    "an,at"
   ]
  },
  {
   "cell_type": "code",
   "execution_count": null,
   "metadata": {},
   "outputs": [],
   "source": []
  },
  {
   "cell_type": "code",
   "execution_count": 48,
   "metadata": {},
   "outputs": [],
   "source": [
    "def filter_bonds_by_elements(bond_list, atom_types, element):\n",
    "    \"\"\"Filter bonds where the bonded atoms include specific elements.\"\"\"\n",
    "    cleaned_bond_list = []\n",
    "    cleaned_atomtypes = []\n",
    "\n",
    "    for b0, b1 in bond_list:\n",
    "        a0, a1 = atom_types[[b0, b1]]\n",
    "        # If element in present in this bond, skip it.\n",
    "        if element in {a0, a1}:\n",
    "            continue\n",
    "        cleaned_bond_list.append((b0, b1))\n",
    "        cleaned_atomtypes.append((a0, a1))\n",
    "\n",
    "    return np.array(cleaned_bond_list), np.array(cleaned_atomtypes)"
   ]
  },
  {
   "cell_type": "code",
   "execution_count": 56,
   "metadata": {},
   "outputs": [],
   "source": []
  },
  {
   "cell_type": "code",
   "execution_count": 57,
   "metadata": {},
   "outputs": [],
   "source": []
  },
  {
   "cell_type": "code",
   "execution_count": 59,
   "metadata": {},
   "outputs": [],
   "source": []
  },
  {
   "cell_type": "code",
   "execution_count": 62,
   "metadata": {},
   "outputs": [
    {
     "data": {
      "text/plain": [
       "array(['C', 'C', 'C', 'C', 'H'], dtype='<U1')"
      ]
     },
     "execution_count": 62,
     "metadata": {},
     "output_type": "execute_result"
    }
   ],
   "source": [
    "cleaned_atomnames"
   ]
  },
  {
   "cell_type": "code",
   "execution_count": 61,
   "metadata": {},
   "outputs": [
    {
     "data": {
      "text/plain": [
       "array(['CH3_alk', 'CH2_alk', 'CH2_alc', 'OH_alc', 'cH_alc'], dtype='<U8')"
      ]
     },
     "execution_count": 61,
     "metadata": {},
     "output_type": "execute_result"
    }
   ],
   "source": [
    "cleaned_atomtypes"
   ]
  },
  {
   "cell_type": "code",
   "execution_count": 60,
   "metadata": {},
   "outputs": [
    {
     "data": {
      "text/plain": [
       "array([[-1.5026692 , -0.09275756, -0.04840631],\n",
       "       [-0.08536994, -0.43846768, -0.41083757],\n",
       "       [ 0.8514522 ,  0.55337043,  0.2545288 ],\n",
       "       [ 2.15602614,  0.22371304, -0.08730026],\n",
       "       [ 2.52658485, -0.51083336,  0.46929023]])"
      ]
     },
     "execution_count": 60,
     "metadata": {},
     "output_type": "execute_result"
    }
   ],
   "source": [
    "cleaned_coordinates"
   ]
  },
  {
   "cell_type": "code",
   "execution_count": 49,
   "metadata": {},
   "outputs": [
    {
     "data": {
      "text/plain": [
       "(array(['CH3_alk', 'CH2_alk', 'CH2_alc', 'OH_alc', 'carbon_h', 'carbon_h',\n",
       "        'carbon_h', 'carbon_h', 'carbon_h', 'carbon_h', 'carbon_h',\n",
       "        'cH_alc'], dtype='<U8'),\n",
       " array([[-1.5026692 , -0.09275756, -0.04840631],\n",
       "        [-0.08536994, -0.43846768, -0.41083757],\n",
       "        [ 0.8514522 ,  0.55337043,  0.2545288 ],\n",
       "        [ 2.15602614,  0.22371304, -0.08730026],\n",
       "        [-1.96115239, -0.91508264,  0.56751542],\n",
       "        [-1.5456706 ,  0.80703921,  0.62039479],\n",
       "        [-2.10818136,  0.05676837, -0.96275909],\n",
       "        [ 0.19008575, -1.46708978, -0.14260452],\n",
       "        [ 0.04311132, -0.33533771, -1.51139709],\n",
       "        [ 0.76372241,  0.53807322,  1.34940015],\n",
       "        [ 0.67206081,  1.58060449, -0.09782454],\n",
       "        [ 2.52658485, -0.51083336,  0.46929023]]),\n",
       " array([[ 0,  1],\n",
       "        [ 1,  2],\n",
       "        [ 2,  3],\n",
       "        [ 0,  4],\n",
       "        [ 0,  5],\n",
       "        [ 0,  6],\n",
       "        [ 1,  7],\n",
       "        [ 1,  8],\n",
       "        [ 2,  9],\n",
       "        [ 2, 10],\n",
       "        [ 3, 11]]))"
      ]
     },
     "execution_count": 49,
     "metadata": {},
     "output_type": "execute_result"
    }
   ],
   "source": [
    "clean_mollist( at, ax, bl, \"carbon_h\" )"
   ]
  },
  {
   "cell_type": "code",
   "execution_count": null,
   "metadata": {},
   "outputs": [],
   "source": [
    "from rdkit import Chem\n",
    "\n",
    "# Define your molecule\n",
    "mol = Chem.MolFromSmiles('CCCO')\n",
    "\n",
    "mol_with_hydrogens = Chem.AddHs(mol)\n",
    "\n",
    "# Define a list of substructures\n",
    "substructures = ['[CH2][O]', '[CH3]', '[O]']\n",
    "substructures_mols = [ Chem.MolFromSmarts(substructure_smarts) for substructure_smarts in substructures]\n",
    "\n",
    "substructure_matches = { substructure: mol_with_hydrogens.GetSubstructMatches(substructure_mol) for substructure,substructure_mol in zip(substructures,substructures_mols) }\n",
    "\n",
    "for atom in mol.GetAtoms():\n",
    "    atom_index = atom.GetIdx()\n",
    "\n",
    "    for substructure, matches in substructure_matches.items():\n",
    "        if any( atom_index == match[0] for match in matches ):\n",
    "            print(f\"matched atom {atom.GetSymbol()} n° {atom_index} with substructure: {substructure}\") "
   ]
  },
  {
   "cell_type": "code",
   "execution_count": 2,
   "metadata": {},
   "outputs": [
    {
     "data": {
      "image/png": "[encoded data removed]",
      "text/plain": [
       "<rdkit.Chem.rdchem.Mol at 0x2adadf3eeea0>"
      ]
     },
     "execution_count": 2,
     "metadata": {},
     "output_type": "execute_result"
    }
   ],
   "source": [
    "butane = Chem.MolFromSmiles(\"CCCC\")\n",
    "butane"
   ]
  },
  {
   "cell_type": "code",
   "execution_count": 3,
   "metadata": {},
   "outputs": [
    {
     "ename": "ValueError",
     "evalue": "Bad Conformer Id",
     "output_type": "error",
     "traceback": [
      "\u001b[0;31m---------------------------------------------------------------------------\u001b[0m",
      "\u001b[0;31mValueError\u001b[0m                                Traceback (most recent call last)",
      "Cell \u001b[0;32mIn[3], line 1\u001b[0m\n\u001b[0;32m----> 1\u001b[0m \u001b[43mbutane\u001b[49m\u001b[38;5;241;43m.\u001b[39;49m\u001b[43mGetConformer\u001b[49m\u001b[43m(\u001b[49m\u001b[43m)\u001b[49m\n",
      "\u001b[0;31mValueError\u001b[0m: Bad Conformer Id"
     ]
    }
   ],
   "source": [
    "butane.GetConformer()"
   ]
  },
  {
   "cell_type": "code",
   "execution_count": 91,
   "metadata": {},
   "outputs": [
    {
     "name": "stdout",
     "output_type": "stream",
     "text": [
      "matched atom C n° 0 with substructure: [CH3]\n",
      "matched atom C n° 2 with substructure: [CH2][O]\n",
      "matched atom O n° 3 with substructure: [O]\n"
     ]
    }
   ],
   "source": [
    "from rdkit import Chem\n",
    "\n",
    "# Define your molecule\n",
    "mol = Chem.MolFromSmiles('CCCO')\n",
    "\n",
    "mol_with_hydrogens = Chem.AddHs(mol)\n",
    "\n",
    "# Define a list of substructures\n",
    "substructures = ['[CH2][O]', '[CH3]', '[O]']\n",
    "substructures_mols = [ Chem.MolFromSmarts(substructure_smarts) for substructure_smarts in substructures]\n",
    "\n",
    "substructure_matches = { substructure: mol_with_hydrogens.GetSubstructMatches(substructure_mol) for substructure,substructure_mol in zip(substructures,substructures_mols) }\n",
    "\n",
    "for atom in mol.GetAtoms():\n",
    "    atom_index = atom.GetIdx()\n",
    "\n",
    "    for substructure, matches in substructure_matches.items():\n",
    "        if any( atom_index == match[0] for match in matches ):\n",
    "            print(f\"matched atom {atom.GetSymbol()} n° {atom_index} with substructure: {substructure}\") "
   ]
  },
  {
   "cell_type": "code",
   "execution_count": 78,
   "metadata": {},
   "outputs": [
    {
     "data": {
      "image/png": "[encoded data removed]",
      "text/plain": [
       "<rdkit.Chem.rdchem.Mol at 0x2abf4d7d04a0>"
      ]
     },
     "execution_count": 78,
     "metadata": {},
     "output_type": "execute_result"
    }
   ],
   "source": [
    "mol_with_hydrogens"
   ]
  },
  {
   "cell_type": "code",
   "execution_count": 74,
   "metadata": {},
   "outputs": [
    {
     "name": "stdout",
     "output_type": "stream",
     "text": [
      "C\n",
      "C\n",
      "C\n",
      "C\n",
      "C\n",
      "H\n",
      "H\n",
      "H\n",
      "H\n",
      "H\n",
      "H\n",
      "H\n",
      "H\n",
      "H\n",
      "H\n",
      "H\n",
      "H\n"
     ]
    }
   ],
   "source": [
    "mol = Chem.MolFromSmiles('CC(C)CC')\n",
    "mol_with_hydrogens = Chem.AddHs(mol)\n",
    "\n",
    "for atom in mol_with_hydrogens.GetAtoms():\n",
    "    print(atom.GetSymbol())"
   ]
  },
  {
   "cell_type": "code",
   "execution_count": 71,
   "metadata": {},
   "outputs": [
    {
     "data": {
      "text/plain": [
       "'C'"
      ]
     },
     "execution_count": 71,
     "metadata": {},
     "output_type": "execute_result"
    }
   ],
   "source": [
    "atom.GetSymbol()"
   ]
  },
  {
   "cell_type": "code",
   "execution_count": 55,
   "metadata": {},
   "outputs": [
    {
     "data": {
      "text/plain": [
       "((0, 1), (3, 2))"
      ]
     },
     "execution_count": 55,
     "metadata": {},
     "output_type": "execute_result"
    }
   ],
   "source": [
    "butane.GetSubstructMatches( topologies[\"CH3\"] )"
   ]
  },
  {
   "cell_type": "code",
   "execution_count": null,
   "metadata": {},
   "outputs": [],
   "source": [
    "Chem.MolFromSmarts('[R2]')"
   ]
  },
  {
   "cell_type": "code",
   "execution_count": 32,
   "metadata": {},
   "outputs": [
    {
     "data": {
      "text/plain": [
       "array(['C', 'C', 'C', 'C', 'H', 'H', 'H', 'H', 'H', 'H', 'H', 'H', 'H',\n",
       "       'H'], dtype='<U1')"
      ]
     },
     "execution_count": 32,
     "metadata": {},
     "output_type": "execute_result"
    }
   ],
   "source": [
    "atom_names"
   ]
  },
  {
   "cell_type": "code",
   "execution_count": 28,
   "metadata": {},
   "outputs": [],
   "source": [
    "from moleculegraph.molecule_utils import (\n",
    "    graph_from_bonds,\n",
    "    get_longest_path,\n",
    "    bond_list_from_simple_path,\n",
    "    get_diff_in_bond_lists,\n",
    "    get_next_index,\n",
    "    get_shortest_nontrivial_path,\n",
    ")\n"
   ]
  },
  {
   "cell_type": "code",
   "execution_count": 29,
   "metadata": {},
   "outputs": [],
   "source": [
    "graph = graph_from_bonds(bond_list)\n",
    "\n",
    "main_path = get_longest_path(graph, source=0)"
   ]
  },
  {
   "cell_type": "code",
   "execution_count": 36,
   "metadata": {},
   "outputs": [
    {
     "data": {
      "text/plain": [
       "array([ 0,  1,  3, 11])"
      ]
     },
     "execution_count": 36,
     "metadata": {},
     "output_type": "execute_result"
    }
   ],
   "source": [
    "main_path"
   ]
  },
  {
   "cell_type": "code",
   "execution_count": 34,
   "metadata": {},
   "outputs": [],
   "source": [
    "main_path_bond_list = bond_list_from_simple_path(main_path)\n",
    "remaining_bonds = get_diff_in_bond_lists(bond_list, main_path_bond_list)"
   ]
  },
  {
   "cell_type": "code",
   "execution_count": 37,
   "metadata": {},
   "outputs": [
    {
     "data": {
      "text/plain": [
       "array([[ 0,  2],\n",
       "       [ 0,  4],\n",
       "       [ 0,  5],\n",
       "       [ 1,  6],\n",
       "       [ 1,  7],\n",
       "       [ 2,  8],\n",
       "       [ 2,  9],\n",
       "       [ 2, 10],\n",
       "       [ 3, 12],\n",
       "       [ 3, 13]])"
      ]
     },
     "execution_count": 37,
     "metadata": {},
     "output_type": "execute_result"
    }
   ],
   "source": [
    "remaining_bonds"
   ]
  },
  {
   "cell_type": "code",
   "execution_count": 38,
   "metadata": {},
   "outputs": [],
   "source": [
    "subgraph = graph_from_bonds(remaining_bonds)"
   ]
  },
  {
   "cell_type": "code",
   "execution_count": 39,
   "metadata": {},
   "outputs": [
    {
     "data": {
      "text/plain": [
       "<networkx.classes.graph.Graph at 0x2abf4d62a350>"
      ]
     },
     "execution_count": 39,
     "metadata": {},
     "output_type": "execute_result"
    }
   ],
   "source": [
    "subgraph"
   ]
  },
  {
   "cell_type": "code",
   "execution_count": 40,
   "metadata": {},
   "outputs": [],
   "source": [
    "idx = get_next_index(main_path, remaining_bonds)"
   ]
  },
  {
   "cell_type": "code",
   "execution_count": 42,
   "metadata": {},
   "outputs": [],
   "source": [
    "subpath = get_longest_path(subgraph, source=idx)\n",
    "subpath_bond_list = bond_list_from_simple_path(subpath)\n",
    "match = np.intersect1d(main_path, subpath)"
   ]
  },
  {
   "cell_type": "code",
   "execution_count": 43,
   "metadata": {},
   "outputs": [
    {
     "data": {
      "text/plain": [
       "array([[0, 2],\n",
       "       [2, 8]])"
      ]
     },
     "execution_count": 43,
     "metadata": {},
     "output_type": "execute_result"
    }
   ],
   "source": [
    "subpath_bond_list"
   ]
  },
  {
   "cell_type": "code",
   "execution_count": 35,
   "metadata": {},
   "outputs": [
    {
     "data": {
      "text/plain": [
       "array([[ 0,  1],\n",
       "       [ 1,  3],\n",
       "       [ 3, 11]])"
      ]
     },
     "execution_count": 35,
     "metadata": {},
     "output_type": "execute_result"
    }
   ],
   "source": [
    "main_path_bond_list"
   ]
  },
  {
   "cell_type": "code",
   "execution_count": 25,
   "metadata": {},
   "outputs": [
    {
     "data": {
      "text/plain": [
       "array([['C', '0.0'],\n",
       "       ['C', '1.0'],\n",
       "       ['H', '1.0'],\n",
       "       ['H', '1.0'],\n",
       "       ['H', '1.0'],\n",
       "       ['H', '2.0'],\n",
       "       ['H', '2.0'],\n",
       "       ['C', '2.0']], dtype='<U3')"
      ]
     },
     "execution_count": 25,
     "metadata": {},
     "output_type": "execute_result"
    }
   ],
   "source": [
    "mol_ser = match_molecule_to_force_field( atom_names, bond_list, ff_depth, {} )\n",
    "mol_ser"
   ]
  },
  {
   "cell_type": "code",
   "execution_count": 12,
   "metadata": {},
   "outputs": [
    {
     "ename": "AttributeError",
     "evalue": "'numpy.ndarray' object has no attribute 'index'",
     "output_type": "error",
     "traceback": [
      "\u001b[0;31m---------------------------------------------------------------------------\u001b[0m",
      "\u001b[0;31mAttributeError\u001b[0m                            Traceback (most recent call last)",
      "Cell \u001b[0;32mIn[12], line 2\u001b[0m\n\u001b[1;32m      1\u001b[0m \u001b[38;5;28;01mfor\u001b[39;00m top \u001b[38;5;129;01min\u001b[39;00m mol_ser:\n\u001b[0;32m----> 2\u001b[0m     \u001b[38;5;28mprint\u001b[39m( \u001b[43mtop_ser\u001b[49m\u001b[38;5;241;43m.\u001b[39;49m\u001b[43mindex\u001b[49m(top) )\n",
      "\u001b[0;31mAttributeError\u001b[0m: 'numpy.ndarray' object has no attribute 'index'"
     ]
    }
   ],
   "source": [
    "for top in mol_ser:\n",
    "    \n",
    "    "
   ]
  },
  {
   "cell_type": "code",
   "execution_count": 27,
   "metadata": {},
   "outputs": [
    {
     "data": {
      "text/plain": [
       "array([['C', '0.0'],\n",
       "       ['H', '1.0'],\n",
       "       ['H', '1.0'],\n",
       "       ['H', '1.0'],\n",
       "       ['*', '1.0'],\n",
       "       ['H', '2.0'],\n",
       "       ['H', '2.0'],\n",
       "       ['*', '2.0']], dtype='<U3')"
      ]
     },
     "execution_count": 27,
     "metadata": {},
     "output_type": "execute_result"
    }
   ],
   "source": [
    "top_ser = get_topology_series( \"(C)(b1)(H)(b1)(H)(b1)(H)(*)(b1)(H)(b1)(H)(*)\", 2 )\n",
    "top_ser"
   ]
  },
  {
   "cell_type": "code",
   "execution_count": 60,
   "metadata": {},
   "outputs": [
    {
     "name": "stdout",
     "output_type": "stream",
     "text": [
      "C 0.0\n",
      "['C']\n",
      "there\n"
     ]
    }
   ],
   "source": [
    "for index,value in sorted_filtered_row.items():\n",
    "    \n",
    "    print(index,value)\n",
    "    idx = ser.index[(ser.index == index) & (ser == value)].tolist()\n",
    "    print(idx)\n",
    "    if (index,value) in zip(ser.index,ser.values):\n",
    "        print(\"there\")\n",
    "    break"
   ]
  },
  {
   "cell_type": "code",
   "execution_count": 16,
   "metadata": {},
   "outputs": [
    {
     "name": "stdout",
     "output_type": "stream",
     "text": [
      "Force field provided for software 'LAMMPS'\n"
     ]
    }
   ],
   "source": [
    "\n",
    "# smiles = [ \"CCCC\", \"CCCCCC\" ]\n",
    "# force_field_paths = [ \"/Users/samir/Documents/Coding_libaries/pyLMP/force-fields/forcefield_UA_TAMie_alkanes.toml\" ]\n",
    "\n",
    "# ff = forcefield( smiles = smiles, force_field_paths = force_field_paths )\n",
    "\n",
    "# residues = [\"butane\",\"hexane\"]\n",
    "\n",
    "\n",
    "# files_suffix = \"mol\"\n",
    "\n",
    "# template = \"/Users/samir/Documents/Coding_libaries/pyLMP/templates/lammps/template_lammps.mol\"\n",
    "\n",
    "# #ff.write_molecule_files( template, \".\", residues, files_suffix, **kwargs )\n"
   ]
  }
 ],
 "metadata": {
  "kernelspec": {
   "display_name": "py312",
   "language": "python",
   "name": "python3"
  },
  "language_info": {
   "codemirror_mode": {
    "name": "ipython",
    "version": 3
   },
   "file_extension": ".py",
   "mimetype": "text/x-python",
   "name": "python",
   "nbconvert_exporter": "python",
   "pygments_lexer": "ipython3",
   "version": "3.11.9"
  }
 },
 "nbformat": 4,
 "nbformat_minor": 2
}
